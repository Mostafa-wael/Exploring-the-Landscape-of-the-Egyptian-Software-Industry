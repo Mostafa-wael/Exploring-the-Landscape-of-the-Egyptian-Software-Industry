{
 "cells": [
  {
   "cell_type": "code",
   "execution_count": 1,
   "metadata": {},
   "outputs": [],
   "source": [
    "import pandas as pd\n",
    "import numpy as np\n",
    "import matplotlib.pyplot as plt\n",
    "import seaborn as sns\n",
    "\n",
    "sns.set_style(\n",
    "    style='darkgrid', \n",
    "    rc={'axes.facecolor': '.9', 'grid.color': '.8'}\n",
    ")\n",
    "sns.set_palette(palette='deep')\n",
    "sns_c = sns.color_palette(palette='deep')"
   ]
  },
  {
   "attachments": {},
   "cell_type": "markdown",
   "metadata": {},
   "source": [
    "### Predict the change in the size of the data engineering and science jobs in the next five years."
   ]
  },
  {
   "cell_type": "code",
   "execution_count": 6,
   "metadata": {},
   "outputs": [
    {
     "data": {
      "text/html": [
       "<div>\n",
       "<style scoped>\n",
       "    .dataframe tbody tr th:only-of-type {\n",
       "        vertical-align: middle;\n",
       "    }\n",
       "\n",
       "    .dataframe tbody tr th {\n",
       "        vertical-align: top;\n",
       "    }\n",
       "\n",
       "    .dataframe thead th {\n",
       "        text-align: right;\n",
       "    }\n",
       "</style>\n",
       "<table border=\"1\" class=\"dataframe\">\n",
       "  <thead>\n",
       "    <tr style=\"text-align: right;\">\n",
       "      <th></th>\n",
       "      <th>User</th>\n",
       "      <th>CompanyUrl</th>\n",
       "      <th>Company</th>\n",
       "      <th>Title</th>\n",
       "      <th>EmploymentType</th>\n",
       "      <th>From</th>\n",
       "      <th>To</th>\n",
       "      <th>Duration</th>\n",
       "      <th>Location</th>\n",
       "      <th>title_tag</th>\n",
       "    </tr>\n",
       "  </thead>\n",
       "  <tbody>\n",
       "    <tr>\n",
       "      <th>4</th>\n",
       "      <td>-ezz</td>\n",
       "      <td>https://www.linkedin.com/company/30101254/</td>\n",
       "      <td>sonono</td>\n",
       "      <td>software engineer</td>\n",
       "      <td>Full-time</td>\n",
       "      <td>2022-01-01</td>\n",
       "      <td>Present</td>\n",
       "      <td>16.0</td>\n",
       "      <td>Basel, Switzerland</td>\n",
       "      <td>software</td>\n",
       "    </tr>\n",
       "    <tr>\n",
       "      <th>6</th>\n",
       "      <td>-ezz</td>\n",
       "      <td>UNKNOWN</td>\n",
       "      <td>CEL - Consulting Engineering Bureau</td>\n",
       "      <td>senior geotechnical engineer</td>\n",
       "      <td>Full-time</td>\n",
       "      <td>2019-09-01</td>\n",
       "      <td>Aug 2020</td>\n",
       "      <td>12.0</td>\n",
       "      <td>Egypt</td>\n",
       "      <td>NaN</td>\n",
       "    </tr>\n",
       "    <tr>\n",
       "      <th>7</th>\n",
       "      <td>1212mohamedtaha</td>\n",
       "      <td>https://www.linkedin.com/company/777868/</td>\n",
       "      <td>Etisalat Misr</td>\n",
       "      <td>big data engineer</td>\n",
       "      <td>Full-time</td>\n",
       "      <td>2022-05-01</td>\n",
       "      <td>Present</td>\n",
       "      <td>12.0</td>\n",
       "      <td>New Cairo, Cairo, Egypt</td>\n",
       "      <td>data</td>\n",
       "    </tr>\n",
       "    <tr>\n",
       "      <th>9</th>\n",
       "      <td>1212mohamedtaha</td>\n",
       "      <td>https://www.linkedin.com/company/2229028/</td>\n",
       "      <td>The Translation Gate, LLC</td>\n",
       "      <td>english / arabic translator</td>\n",
       "      <td>Freelance</td>\n",
       "      <td>2021-01-01</td>\n",
       "      <td>Mar 2021</td>\n",
       "      <td>3.0</td>\n",
       "      <td>Remote</td>\n",
       "      <td>NaN</td>\n",
       "    </tr>\n",
       "    <tr>\n",
       "      <th>10</th>\n",
       "      <td>3omarbadr</td>\n",
       "      <td>https://www.linkedin.com/company/18899346/</td>\n",
       "      <td>ACME SAICO - Integrated Engineering Systems -(...</td>\n",
       "      <td>software engineer</td>\n",
       "      <td>Full-time</td>\n",
       "      <td>2022-09-01</td>\n",
       "      <td>Present</td>\n",
       "      <td>8.0</td>\n",
       "      <td>Heliopolis, Cairo, Egypt</td>\n",
       "      <td>software</td>\n",
       "    </tr>\n",
       "  </tbody>\n",
       "</table>\n",
       "</div>"
      ],
      "text/plain": [
       "               User                                  CompanyUrl  \\\n",
       "4              -ezz  https://www.linkedin.com/company/30101254/   \n",
       "6              -ezz                                     UNKNOWN   \n",
       "7   1212mohamedtaha    https://www.linkedin.com/company/777868/   \n",
       "9   1212mohamedtaha   https://www.linkedin.com/company/2229028/   \n",
       "10        3omarbadr  https://www.linkedin.com/company/18899346/   \n",
       "\n",
       "                                              Company  \\\n",
       "4                                              sonono   \n",
       "6                 CEL - Consulting Engineering Bureau   \n",
       "7                                       Etisalat Misr   \n",
       "9                           The Translation Gate, LLC   \n",
       "10  ACME SAICO - Integrated Engineering Systems -(...   \n",
       "\n",
       "                           Title EmploymentType       From        To  \\\n",
       "4              software engineer      Full-time 2022-01-01   Present   \n",
       "6   senior geotechnical engineer      Full-time 2019-09-01  Aug 2020   \n",
       "7              big data engineer      Full-time 2022-05-01   Present   \n",
       "9    english / arabic translator      Freelance 2021-01-01  Mar 2021   \n",
       "10             software engineer      Full-time 2022-09-01   Present   \n",
       "\n",
       "    Duration                  Location title_tag  \n",
       "4       16.0        Basel, Switzerland  software  \n",
       "6       12.0                     Egypt       NaN  \n",
       "7       12.0   New Cairo, Cairo, Egypt      data  \n",
       "9        3.0                    Remote       NaN  \n",
       "10       8.0  Heliopolis, Cairo, Egypt  software  "
      ]
     },
     "execution_count": 6,
     "metadata": {},
     "output_type": "execute_result"
    }
   ],
   "source": [
    "experience_df = pd.read_csv('../data/preprocessed-data/normalized csv/experiences.csv', converters={'From': pd.to_datetime})\n",
    "experience_df = experience_df[(experience_df['title_tag'] != 'internship') & (experience_df['EmploymentType'] != 'Internship')]\n",
    "experience_df = experience_df[(experience_df['title_tag'] != 'student') & (experience_df['title_tag'] != 'teaching')]\n",
    "experience_df.head()"
   ]
  },
  {
   "cell_type": "code",
   "execution_count": 32,
   "metadata": {},
   "outputs": [
    {
     "data": {
      "text/html": [
       "<div>\n",
       "<style scoped>\n",
       "    .dataframe tbody tr th:only-of-type {\n",
       "        vertical-align: middle;\n",
       "    }\n",
       "\n",
       "    .dataframe tbody tr th {\n",
       "        vertical-align: top;\n",
       "    }\n",
       "\n",
       "    .dataframe thead th {\n",
       "        text-align: right;\n",
       "    }\n",
       "</style>\n",
       "<table border=\"1\" class=\"dataframe\">\n",
       "  <thead>\n",
       "    <tr style=\"text-align: right;\">\n",
       "      <th></th>\n",
       "      <th>title_tag</th>\n",
       "      <th>From</th>\n",
       "      <th>count</th>\n",
       "    </tr>\n",
       "  </thead>\n",
       "  <tbody>\n",
       "    <tr>\n",
       "      <th>0</th>\n",
       "      <td>AI</td>\n",
       "      <td>2014-06-01</td>\n",
       "      <td>1</td>\n",
       "    </tr>\n",
       "    <tr>\n",
       "      <th>1</th>\n",
       "      <td>AI</td>\n",
       "      <td>2015-04-01</td>\n",
       "      <td>2</td>\n",
       "    </tr>\n",
       "    <tr>\n",
       "      <th>2</th>\n",
       "      <td>AI</td>\n",
       "      <td>2015-05-01</td>\n",
       "      <td>3</td>\n",
       "    </tr>\n",
       "    <tr>\n",
       "      <th>3</th>\n",
       "      <td>AI</td>\n",
       "      <td>2016-03-01</td>\n",
       "      <td>4</td>\n",
       "    </tr>\n",
       "    <tr>\n",
       "      <th>4</th>\n",
       "      <td>AI</td>\n",
       "      <td>2016-06-01</td>\n",
       "      <td>5</td>\n",
       "    </tr>\n",
       "  </tbody>\n",
       "</table>\n",
       "</div>"
      ],
      "text/plain": [
       "  title_tag       From  count\n",
       "0        AI 2014-06-01      1\n",
       "1        AI 2015-04-01      2\n",
       "2        AI 2015-05-01      3\n",
       "3        AI 2016-03-01      4\n",
       "4        AI 2016-06-01      5"
      ]
     },
     "execution_count": 32,
     "metadata": {},
     "output_type": "execute_result"
    }
   ],
   "source": [
    "# for each month count cumulative number for each title_tag\n",
    "\n",
    "df = experience_df.groupby(['title_tag', 'From']).count().reset_index()\n",
    "df = df[['title_tag', 'From', 'User']]\n",
    "df.columns = ['title_tag', 'From', 'count']\n",
    "df['count'] = df['count'].cumsum()\n",
    "df.head()"
   ]
  },
  {
   "cell_type": "code",
   "execution_count": 33,
   "metadata": {},
   "outputs": [
    {
     "data": {
      "image/png": "[encoded data removed]",
      "text/plain": [
       "<Figure size 800x400 with 1 Axes>"
      ]
     },
     "metadata": {},
     "output_type": "display_data"
    }
   ],
   "source": [
    "# plot for each title_tag\n",
    "jobs = ['data', 'front-end', 'back-end', 'AI']\n",
    "fig, ax = plt.subplots(figsize=(8, 4))\n",
    "sns.lineplot(x='From', y='count', hue='title_tag', data=df[df['title_tag'].isin(jobs)], ax=ax)\n",
    "ax.set_title('Number of Data Science Jobs by Year')\n",
    "ax.set_xlabel('Year')\n",
    "ax.set_ylabel('Number of Jobs')\n",
    "plt.show()"
   ]
  },
  {
   "cell_type": "code",
   "execution_count": null,
   "metadata": {},
   "outputs": [],
   "source": []
  }
 ],
 "metadata": {
  "kernelspec": {
   "display_name": "HiVT",
   "language": "python",
   "name": "python3"
  },
  "language_info": {
   "codemirror_mode": {
    "name": "ipython",
    "version": 3
   },
   "file_extension": ".py",
   "mimetype": "text/x-python",
   "name": "python",
   "nbconvert_exporter": "python",
   "pygments_lexer": "ipython3",
   "version": "3.8.16 (default, Mar  2 2023, 03:21:46) \n[GCC 11.2.0]"
  },
  "orig_nbformat": 4,
  "vscode": {
   "interpreter": {
    "hash": "60314a8d3aa5fc3596f5f57b712d271dc597492e130eb7f55220048155540bfa"
   }
  }
 },
 "nbformat": 4,
 "nbformat_minor": 2
}
