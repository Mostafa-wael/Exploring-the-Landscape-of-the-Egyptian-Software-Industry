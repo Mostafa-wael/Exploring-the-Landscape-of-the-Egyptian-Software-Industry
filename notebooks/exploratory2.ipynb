{
 "cells": [
  {
   "attachments": {},
   "cell_type": "markdown",
   "metadata": {},
   "source": [
    "<div style=\"border-width:1; border-radius: 15px; border-style: solid; border-color: rgb(10, 10, 10); background-color: #316B83; text-align: center;font: 14pt 'Candara';font-weight:bold;\"><h1> Stating the QS</h1></div>"
   ]
  },
  {
   "attachments": {},
   "cell_type": "markdown",
   "metadata": {},
   "source": [
    "> #### _`QS:`_ The relation between company attributes and the time software engineer works on it\n",
    "\n",
    ">|Set Expectation | Collect Info | Match Results| \n",
    ">|----|----|----|\n",
    ">| Question is answerable, there exist enough data to answer it.| - | - |\n",
    "<br>"
   ]
  },
  {
   "attachments": {},
   "cell_type": "markdown",
   "metadata": {},
   "source": [
    "## Imports"
   ]
  },
  {
   "cell_type": "code",
   "execution_count": 61,
   "metadata": {},
   "outputs": [],
   "source": [
    "import pandas as pd\n",
    "import numpy as np\n",
    "import matplotlib.pyplot as plt\n",
    "import seaborn as sns"
   ]
  },
  {
   "cell_type": "code",
   "execution_count": 62,
   "metadata": {},
   "outputs": [],
   "source": [
    "sns.set_style(\n",
    "    style='darkgrid', \n",
    "    rc={'axes.facecolor': '.9', 'grid.color': '.8'}\n",
    ")\n",
    "sns.set_palette(palette='deep')\n",
    "sns_c = sns.color_palette(palette='deep')"
   ]
  },
  {
   "attachments": {},
   "cell_type": "markdown",
   "metadata": {},
   "source": [
    "<div style=\"border-width:1; border-radius: 15px; border-style: solid; border-color: rgb(10, 10, 10); background-color: #316B83; text-align: center;font: 14pt 'Candara';font-weight:bold;\"><h1> Data Exploration</h1></div>"
   ]
  },
  {
   "attachments": {},
   "cell_type": "markdown",
   "metadata": {},
   "source": [
    "## Reading Companies data"
   ]
  },
  {
   "cell_type": "code",
   "execution_count": 63,
   "metadata": {},
   "outputs": [
    {
     "data": {
      "text/html": [
       "<div>\n",
       "<style scoped>\n",
       "    .dataframe tbody tr th:only-of-type {\n",
       "        vertical-align: middle;\n",
       "    }\n",
       "\n",
       "    .dataframe tbody tr th {\n",
       "        vertical-align: top;\n",
       "    }\n",
       "\n",
       "    .dataframe thead th {\n",
       "        text-align: right;\n",
       "    }\n",
       "</style>\n",
       "<table border=\"1\" class=\"dataframe\">\n",
       "  <thead>\n",
       "    <tr style=\"text-align: right;\">\n",
       "      <th></th>\n",
       "      <th>companySize</th>\n",
       "      <th>location</th>\n",
       "      <th>founded</th>\n",
       "      <th>industry</th>\n",
       "      <th>headquarters</th>\n",
       "      <th>query</th>\n",
       "    </tr>\n",
       "  </thead>\n",
       "  <tbody>\n",
       "    <tr>\n",
       "      <th>0</th>\n",
       "      <td>51-200 employees</td>\n",
       "      <td>Giza</td>\n",
       "      <td>1983.0</td>\n",
       "      <td>IT Services and IT Consulting</td>\n",
       "      <td>Giza, Cairo</td>\n",
       "      <td>https://www.linkedin.com/company/15805726/</td>\n",
       "    </tr>\n",
       "    <tr>\n",
       "      <th>1</th>\n",
       "      <td>NaN</td>\n",
       "      <td>NaN</td>\n",
       "      <td>NaN</td>\n",
       "      <td>NaN</td>\n",
       "      <td>NaN</td>\n",
       "      <td>https://www.linkedin.com/company/18305384/</td>\n",
       "    </tr>\n",
       "    <tr>\n",
       "      <th>2</th>\n",
       "      <td>11-50 employees</td>\n",
       "      <td>Beirut</td>\n",
       "      <td>2005.0</td>\n",
       "      <td>Outsourcing and Offshoring Consulting</td>\n",
       "      <td>NaN</td>\n",
       "      <td>https://www.linkedin.com/company/2205041/</td>\n",
       "    </tr>\n",
       "    <tr>\n",
       "      <th>3</th>\n",
       "      <td>11-50 employees</td>\n",
       "      <td>Basel</td>\n",
       "      <td>2019.0</td>\n",
       "      <td>Technology, Information and Internet</td>\n",
       "      <td>Basel, Basel-Stadt</td>\n",
       "      <td>https://www.linkedin.com/company/30101254/</td>\n",
       "    </tr>\n",
       "    <tr>\n",
       "      <th>4</th>\n",
       "      <td>1,001-5,000 employees</td>\n",
       "      <td>Cairo</td>\n",
       "      <td>NaN</td>\n",
       "      <td>Telecommunications</td>\n",
       "      <td>NaN</td>\n",
       "      <td>https://www.linkedin.com/company/777868/</td>\n",
       "    </tr>\n",
       "  </tbody>\n",
       "</table>\n",
       "</div>"
      ],
      "text/plain": [
       "             companySize location  founded  \\\n",
       "0       51-200 employees     Giza   1983.0   \n",
       "1                    NaN      NaN      NaN   \n",
       "2        11-50 employees   Beirut   2005.0   \n",
       "3        11-50 employees    Basel   2019.0   \n",
       "4  1,001-5,000 employees    Cairo      NaN   \n",
       "\n",
       "                                industry        headquarters  \\\n",
       "0          IT Services and IT Consulting         Giza, Cairo   \n",
       "1                                    NaN                 NaN   \n",
       "2  Outsourcing and Offshoring Consulting                 NaN   \n",
       "3   Technology, Information and Internet  Basel, Basel-Stadt   \n",
       "4                     Telecommunications                 NaN   \n",
       "\n",
       "                                        query  \n",
       "0  https://www.linkedin.com/company/15805726/  \n",
       "1  https://www.linkedin.com/company/18305384/  \n",
       "2   https://www.linkedin.com/company/2205041/  \n",
       "3  https://www.linkedin.com/company/30101254/  \n",
       "4    https://www.linkedin.com/company/777868/  "
      ]
     },
     "execution_count": 63,
     "metadata": {},
     "output_type": "execute_result"
    }
   ],
   "source": [
    "# read companies data\n",
    "df_companies = pd.read_csv(\"../data/companies/companies.csv\")\n",
    "\n",
    "# select only the companySize, location, founded,industry,headquarters,query \n",
    "df_companies = df_companies[['companySize','location','founded','industry','headquarters','query']]\n",
    "df_companies.head()\n"
   ]
  },
  {
   "cell_type": "code",
   "execution_count": 64,
   "metadata": {},
   "outputs": [
    {
     "name": "stdout",
     "output_type": "stream",
     "text": [
      "Percentage of na in companySize:  0.05089285714285714\n"
     ]
    },
    {
     "data": {
      "image/png": "[encoded data removed]",
      "text/plain": [
       "<Figure size 432x288 with 1 Axes>"
      ]
     },
     "metadata": {},
     "output_type": "display_data"
    }
   ],
   "source": [
    "# plot the number of na vs not na in companySize\n",
    "df_companies['companySize'].isna().value_counts().plot(kind='bar', color=sns_c[0])\n",
    "\n",
    "# get the percentage of na in data \n",
    "print(\"Percentage of na in companySize: \", df_companies['companySize'].isna().sum()/len(df_companies))"
   ]
  },
  {
   "attachments": {},
   "cell_type": "markdown",
   "metadata": {},
   "source": [
    "## Filtering Nulls & Preprocessing:\n",
    "- We found that some founded year are garbage so we will only take in consideration the years from 1000-2023\n",
    "- Turning founded type to int"
   ]
  },
  {
   "cell_type": "code",
   "execution_count": 65,
   "metadata": {},
   "outputs": [],
   "source": [
    "# remove na values in companySize\n",
    "df_companies = df_companies.dropna(subset=['companySize','location','founded','industry','headquarters','query'])\n",
    "\n",
    "df_companies = df_companies[(df_companies['founded'].astype(int) > 999) & (df_companies['founded'].astype(int) < 2024)]\n",
    "\n",
    "# change the type of founded to int\n",
    "df_companies['founded'] = df_companies['founded'].astype(int)\n"
   ]
  },
  {
   "attachments": {},
   "cell_type": "markdown",
   "metadata": {},
   "source": [
    "## Show number of companies we have in each category of CompanySize"
   ]
  },
  {
   "cell_type": "code",
   "execution_count": 66,
   "metadata": {},
   "outputs": [
    {
     "data": {
      "text/plain": [
       "<AxesSubplot:title={'center':'Number of companies by companySize'}, xlabel='companySize'>"
      ]
     },
     "execution_count": 66,
     "metadata": {},
     "output_type": "execute_result"
    },
    {
     "data": {
      "image/png": "[encoded data removed]",
      "text/plain": [
       "<Figure size 1080x360 with 1 Axes>"
      ]
     },
     "metadata": {},
     "output_type": "display_data"
    }
   ],
   "source": [
    "# plot the number of companies by companySize\n",
    "df_companies.groupby('companySize').size().sort_values(ascending=False).plot(kind='bar', figsize=(15, 5), color=sns_c[1],title=\"Number of companies by companySize\")"
   ]
  },
  {
   "attachments": {},
   "cell_type": "markdown",
   "metadata": {},
   "source": [
    "## Show the number of companies we have in each location & print top 20 locations only"
   ]
  },
  {
   "cell_type": "code",
   "execution_count": 67,
   "metadata": {},
   "outputs": [
    {
     "data": {
      "text/plain": [
       "<AxesSubplot:title={'center':'Number of companies by location'}, xlabel='location'>"
      ]
     },
     "execution_count": 67,
     "metadata": {},
     "output_type": "execute_result"
    },
    {
     "data": {
      "image/png": "[encoded data removed]",
      "text/plain": [
       "<Figure size 1080x360 with 1 Axes>"
      ]
     },
     "metadata": {},
     "output_type": "display_data"
    }
   ],
   "source": [
    "# plot the companies wrt location and show only first 20 results\n",
    "df_companies.groupby('location').size().sort_values(ascending=False)[:20].plot(kind='bar', figsize=(15, 5), color=sns_c[2],title=\"Number of companies by location\")"
   ]
  },
  {
   "attachments": {},
   "cell_type": "markdown",
   "metadata": {},
   "source": [
    "## Show the number of companies regarding it's founded year"
   ]
  },
  {
   "cell_type": "code",
   "execution_count": 68,
   "metadata": {},
   "outputs": [
    {
     "name": "stdout",
     "output_type": "stream",
     "text": [
      "Max founded year:  2023\n",
      "Min founded year:  1816\n"
     ]
    },
    {
     "data": {
      "text/plain": [
       "<AxesSubplot:title={'center':'Number of companies by founded year'}, xlabel='founded'>"
      ]
     },
     "execution_count": 68,
     "metadata": {},
     "output_type": "execute_result"
    },
    {
     "data": {
      "image/png": "[encoded data removed]",
      "text/plain": [
       "<Figure size 1440x360 with 1 Axes>"
      ]
     },
     "metadata": {},
     "output_type": "display_data"
    }
   ],
   "source": [
    "# print max and min founded year\n",
    "print(\"Max founded year: \", df_companies['founded'].max())\n",
    "print(\"Min founded year: \", df_companies['founded'].min())\n",
    "\n",
    "# plot company wrt founded year and show first 20 results\n",
    "df_companies.groupby('founded').size().sort_values(ascending=False).plot(kind='bar', figsize=(20, 5), color=sns_c[3],title=\"Number of companies by founded year\")"
   ]
  },
  {
   "attachments": {},
   "cell_type": "markdown",
   "metadata": {},
   "source": [
    "<div style=\"border-width:1; border-radius: 15px; border-style: solid; border-color: rgb(10, 10, 10); background-color: #316B83; text-align: center;font: 14pt 'Candara';font-weight:bold;\"><h1> Stating & Refining QS</h1></div>"
   ]
  },
  {
   "attachments": {},
   "cell_type": "markdown",
   "metadata": {},
   "source": [
    "> #### _`QS:`_ The relation between company attributes and the time software engineer works on it\n",
    "\n",
    ">|Set Expectation | Collect Info | Match Results| \n",
    ">|----|----|----|\n",
    ">| Question is answerable, there exist enough data to answer it.| The data is we have is biased a little bit in each metric to a specific value but we still can take an average due to making our visualizations to be able recover this bias | - |\n",
    ">| The bigger the company the bigger the chance that employee will work in it longer| - | - |\n",
    "<br>"
   ]
  },
  {
   "attachments": {},
   "cell_type": "markdown",
   "metadata": {},
   "source": [
    "## Reading the data of employees"
   ]
  },
  {
   "cell_type": "code",
   "execution_count": 69,
   "metadata": {},
   "outputs": [
    {
     "data": {
      "text/html": [
       "<div>\n",
       "<style scoped>\n",
       "    .dataframe tbody tr th:only-of-type {\n",
       "        vertical-align: middle;\n",
       "    }\n",
       "\n",
       "    .dataframe tbody tr th {\n",
       "        vertical-align: top;\n",
       "    }\n",
       "\n",
       "    .dataframe thead th {\n",
       "        text-align: right;\n",
       "    }\n",
       "</style>\n",
       "<table border=\"1\" class=\"dataframe\">\n",
       "  <thead>\n",
       "    <tr style=\"text-align: right;\">\n",
       "      <th></th>\n",
       "      <th>User</th>\n",
       "      <th>CompanyUrl</th>\n",
       "      <th>Company</th>\n",
       "      <th>Title</th>\n",
       "      <th>EmploymentType</th>\n",
       "      <th>From</th>\n",
       "      <th>To</th>\n",
       "      <th>Duration</th>\n",
       "      <th>Location</th>\n",
       "      <th>title_tag</th>\n",
       "    </tr>\n",
       "  </thead>\n",
       "  <tbody>\n",
       "    <tr>\n",
       "      <th>0</th>\n",
       "      <td>%D9%90%D9%90amiraelmergawy</td>\n",
       "      <td>https://www.linkedin.com/company/294614/</td>\n",
       "      <td>Information Technology Institute (ITI)</td>\n",
       "      <td>teaching assistant</td>\n",
       "      <td>Full-time</td>\n",
       "      <td>2022-08-01</td>\n",
       "      <td>Present</td>\n",
       "      <td>9.0</td>\n",
       "      <td>Egypt</td>\n",
       "      <td>Teaching</td>\n",
       "    </tr>\n",
       "    <tr>\n",
       "      <th>1</th>\n",
       "      <td>%D9%90%D9%90amiraelmergawy</td>\n",
       "      <td>https://www.linkedin.com/company/15805726/</td>\n",
       "      <td>National Telecommunication Institute (NTI)</td>\n",
       "      <td>mean stack developer</td>\n",
       "      <td>Internship</td>\n",
       "      <td>2020-11-01</td>\n",
       "      <td>Jan 2021</td>\n",
       "      <td>3.0</td>\n",
       "      <td>NaN</td>\n",
       "      <td>Fullstack</td>\n",
       "    </tr>\n",
       "    <tr>\n",
       "      <th>2</th>\n",
       "      <td>%D9%90%D9%90amiraelmergawy</td>\n",
       "      <td>https://www.linkedin.com/company/18305384/</td>\n",
       "      <td>الجهاز المركزي للتعبئة العامة و الاحصاء</td>\n",
       "      <td>software developer</td>\n",
       "      <td>Internship</td>\n",
       "      <td>2019-07-01</td>\n",
       "      <td>NaN</td>\n",
       "      <td>1.0</td>\n",
       "      <td>Cairo, Egypt</td>\n",
       "      <td>Software</td>\n",
       "    </tr>\n",
       "    <tr>\n",
       "      <th>3</th>\n",
       "      <td>%D9%90%D9%90amiraelmergawy</td>\n",
       "      <td>https://www.linkedin.com/company/2205041/</td>\n",
       "      <td>(ISCC) Information Systems and Computers Center</td>\n",
       "      <td>software developer</td>\n",
       "      <td>Internship</td>\n",
       "      <td>2018-08-01</td>\n",
       "      <td>NaN</td>\n",
       "      <td>1.0</td>\n",
       "      <td>Cairo, Egypt</td>\n",
       "      <td>Software</td>\n",
       "    </tr>\n",
       "    <tr>\n",
       "      <th>4</th>\n",
       "      <td>-ezz</td>\n",
       "      <td>https://www.linkedin.com/company/30101254/</td>\n",
       "      <td>sonono</td>\n",
       "      <td>software engineer</td>\n",
       "      <td>Full-time</td>\n",
       "      <td>2022-01-01</td>\n",
       "      <td>Present</td>\n",
       "      <td>16.0</td>\n",
       "      <td>Basel, Switzerland</td>\n",
       "      <td>Software</td>\n",
       "    </tr>\n",
       "  </tbody>\n",
       "</table>\n",
       "</div>"
      ],
      "text/plain": [
       "                         User                                  CompanyUrl  \\\n",
       "0  %D9%90%D9%90amiraelmergawy    https://www.linkedin.com/company/294614/   \n",
       "1  %D9%90%D9%90amiraelmergawy  https://www.linkedin.com/company/15805726/   \n",
       "2  %D9%90%D9%90amiraelmergawy  https://www.linkedin.com/company/18305384/   \n",
       "3  %D9%90%D9%90amiraelmergawy   https://www.linkedin.com/company/2205041/   \n",
       "4                        -ezz  https://www.linkedin.com/company/30101254/   \n",
       "\n",
       "                                           Company                 Title  \\\n",
       "0           Information Technology Institute (ITI)    teaching assistant   \n",
       "1       National Telecommunication Institute (NTI)  mean stack developer   \n",
       "2          الجهاز المركزي للتعبئة العامة و الاحصاء    software developer   \n",
       "3  (ISCC) Information Systems and Computers Center    software developer   \n",
       "4                                           sonono     software engineer   \n",
       "\n",
       "  EmploymentType        From        To  Duration            Location  \\\n",
       "0      Full-time  2022-08-01   Present       9.0               Egypt   \n",
       "1     Internship  2020-11-01  Jan 2021       3.0                 NaN   \n",
       "2     Internship  2019-07-01       NaN       1.0        Cairo, Egypt   \n",
       "3     Internship  2018-08-01       NaN       1.0        Cairo, Egypt   \n",
       "4      Full-time  2022-01-01   Present      16.0  Basel, Switzerland   \n",
       "\n",
       "   title_tag  \n",
       "0   Teaching  \n",
       "1  Fullstack  \n",
       "2   Software  \n",
       "3   Software  \n",
       "4   Software  "
      ]
     },
     "execution_count": 69,
     "metadata": {},
     "output_type": "execute_result"
    }
   ],
   "source": [
    "df_employees = pd.read_csv(\"../data/preprocessed-data/normalized csv/experiences.csv\")\n",
    "\n",
    "# plot the head of the dataframe\n",
    "df_employees.head()\n"
   ]
  },
  {
   "attachments": {},
   "cell_type": "markdown",
   "metadata": {},
   "source": [
    "## Filtering Employees Nulls & Preprocessing:\n",
    "- Selecting only full-time,part-time,contract jobs\n",
    "- Turning Duration into int type\n",
    "- Selecting only important columns from data :\n",
    "    - CompanyUrl `for joining data with company`\n",
    "    - Duration `The main metric we will use to compare the time employee stays in company`\n",
    "    - EmploymentType `used to select only full,part,contract employees`"
   ]
  },
  {
   "cell_type": "code",
   "execution_count": 70,
   "metadata": {},
   "outputs": [
    {
     "data": {
      "text/html": [
       "<div>\n",
       "<style scoped>\n",
       "    .dataframe tbody tr th:only-of-type {\n",
       "        vertical-align: middle;\n",
       "    }\n",
       "\n",
       "    .dataframe tbody tr th {\n",
       "        vertical-align: top;\n",
       "    }\n",
       "\n",
       "    .dataframe thead th {\n",
       "        text-align: right;\n",
       "    }\n",
       "</style>\n",
       "<table border=\"1\" class=\"dataframe\">\n",
       "  <thead>\n",
       "    <tr style=\"text-align: right;\">\n",
       "      <th></th>\n",
       "      <th>CompanyUrl</th>\n",
       "      <th>Duration</th>\n",
       "      <th>EmploymentType</th>\n",
       "    </tr>\n",
       "  </thead>\n",
       "  <tbody>\n",
       "    <tr>\n",
       "      <th>0</th>\n",
       "      <td>https://www.linkedin.com/company/294614/</td>\n",
       "      <td>9.0</td>\n",
       "      <td>full-time</td>\n",
       "    </tr>\n",
       "    <tr>\n",
       "      <th>4</th>\n",
       "      <td>https://www.linkedin.com/company/30101254/</td>\n",
       "      <td>16.0</td>\n",
       "      <td>full-time</td>\n",
       "    </tr>\n",
       "    <tr>\n",
       "      <th>5</th>\n",
       "      <td>https://www.linkedin.com/company/294614/</td>\n",
       "      <td>4.0</td>\n",
       "      <td>full-time</td>\n",
       "    </tr>\n",
       "    <tr>\n",
       "      <th>6</th>\n",
       "      <td>UNKNOWN</td>\n",
       "      <td>12.0</td>\n",
       "      <td>full-time</td>\n",
       "    </tr>\n",
       "    <tr>\n",
       "      <th>7</th>\n",
       "      <td>https://www.linkedin.com/company/777868/</td>\n",
       "      <td>12.0</td>\n",
       "      <td>full-time</td>\n",
       "    </tr>\n",
       "    <tr>\n",
       "      <th>8</th>\n",
       "      <td>https://www.linkedin.com/company/294614/</td>\n",
       "      <td>11.0</td>\n",
       "      <td>full-time</td>\n",
       "    </tr>\n",
       "    <tr>\n",
       "      <th>10</th>\n",
       "      <td>https://www.linkedin.com/company/18899346/</td>\n",
       "      <td>8.0</td>\n",
       "      <td>full-time</td>\n",
       "    </tr>\n",
       "    <tr>\n",
       "      <th>11</th>\n",
       "      <td>https://www.linkedin.com/company/85963270/</td>\n",
       "      <td>8.0</td>\n",
       "      <td>part-time</td>\n",
       "    </tr>\n",
       "    <tr>\n",
       "      <th>12</th>\n",
       "      <td>https://www.linkedin.com/company/3302698/</td>\n",
       "      <td>8.0</td>\n",
       "      <td>full-time</td>\n",
       "    </tr>\n",
       "    <tr>\n",
       "      <th>19</th>\n",
       "      <td>https://www.linkedin.com/company/623785/</td>\n",
       "      <td>16.0</td>\n",
       "      <td>full-time</td>\n",
       "    </tr>\n",
       "  </tbody>\n",
       "</table>\n",
       "</div>"
      ],
      "text/plain": [
       "                                    CompanyUrl  Duration EmploymentType\n",
       "0     https://www.linkedin.com/company/294614/       9.0      full-time\n",
       "4   https://www.linkedin.com/company/30101254/      16.0      full-time\n",
       "5     https://www.linkedin.com/company/294614/       4.0      full-time\n",
       "6                                      UNKNOWN      12.0      full-time\n",
       "7     https://www.linkedin.com/company/777868/      12.0      full-time\n",
       "8     https://www.linkedin.com/company/294614/      11.0      full-time\n",
       "10  https://www.linkedin.com/company/18899346/       8.0      full-time\n",
       "11  https://www.linkedin.com/company/85963270/       8.0      part-time\n",
       "12   https://www.linkedin.com/company/3302698/       8.0      full-time\n",
       "19    https://www.linkedin.com/company/623785/      16.0      full-time"
      ]
     },
     "execution_count": 70,
     "metadata": {},
     "output_type": "execute_result"
    }
   ],
   "source": [
    "# select only the CompanyUrl and the duration columns and EmploymentType\n",
    "df_employees = df_employees[['CompanyUrl', 'Duration','EmploymentType']]\n",
    "\n",
    "# remove na values in EmploymentType\n",
    "df_employees = df_employees.dropna(subset=['EmploymentType','CompanyUrl','Duration'])\n",
    "\n",
    "# change all values to lowercase\n",
    "df_employees['EmploymentType'] = df_employees['EmploymentType'].str.lower()\n",
    "\n",
    "# keep on EmployeeType which contains full-time, part-time, contract\n",
    "df_employees = df_employees[df_employees['EmploymentType'].str.contains('full|part|contract')]\n",
    "\n",
    "# head data\n",
    "df_employees.head(10)"
   ]
  },
  {
   "attachments": {},
   "cell_type": "markdown",
   "metadata": {},
   "source": [
    "## Combining Data"
   ]
  },
  {
   "cell_type": "code",
   "execution_count": 71,
   "metadata": {},
   "outputs": [
    {
     "name": "stdout",
     "output_type": "stream",
     "text": [
      "Percentage of na in Duration:  0.0\n"
     ]
    },
    {
     "data": {
      "text/html": [
       "<div>\n",
       "<style scoped>\n",
       "    .dataframe tbody tr th:only-of-type {\n",
       "        vertical-align: middle;\n",
       "    }\n",
       "\n",
       "    .dataframe tbody tr th {\n",
       "        vertical-align: top;\n",
       "    }\n",
       "\n",
       "    .dataframe thead th {\n",
       "        text-align: right;\n",
       "    }\n",
       "</style>\n",
       "<table border=\"1\" class=\"dataframe\">\n",
       "  <thead>\n",
       "    <tr style=\"text-align: right;\">\n",
       "      <th></th>\n",
       "      <th>CompanyUrl</th>\n",
       "      <th>Duration</th>\n",
       "      <th>EmploymentType</th>\n",
       "      <th>companySize</th>\n",
       "      <th>location</th>\n",
       "      <th>founded</th>\n",
       "      <th>industry</th>\n",
       "      <th>headquarters</th>\n",
       "      <th>query</th>\n",
       "    </tr>\n",
       "  </thead>\n",
       "  <tbody>\n",
       "    <tr>\n",
       "      <th>0</th>\n",
       "      <td>https://www.linkedin.com/company/30101254/</td>\n",
       "      <td>16.0</td>\n",
       "      <td>full-time</td>\n",
       "      <td>11-50 employees</td>\n",
       "      <td>Basel</td>\n",
       "      <td>2019</td>\n",
       "      <td>Technology, Information and Internet</td>\n",
       "      <td>Basel, Basel-Stadt</td>\n",
       "      <td>https://www.linkedin.com/company/30101254/</td>\n",
       "    </tr>\n",
       "    <tr>\n",
       "      <th>1</th>\n",
       "      <td>https://www.linkedin.com/company/30101254/</td>\n",
       "      <td>16.0</td>\n",
       "      <td>full-time</td>\n",
       "      <td>11-50 employees</td>\n",
       "      <td>Basel</td>\n",
       "      <td>2019</td>\n",
       "      <td>Technology, Information and Internet</td>\n",
       "      <td>Basel, Basel-Stadt</td>\n",
       "      <td>https://www.linkedin.com/company/30101254/</td>\n",
       "    </tr>\n",
       "    <tr>\n",
       "      <th>2</th>\n",
       "      <td>https://www.linkedin.com/company/30101254/</td>\n",
       "      <td>8.0</td>\n",
       "      <td>full-time</td>\n",
       "      <td>11-50 employees</td>\n",
       "      <td>Basel</td>\n",
       "      <td>2019</td>\n",
       "      <td>Technology, Information and Internet</td>\n",
       "      <td>Basel, Basel-Stadt</td>\n",
       "      <td>https://www.linkedin.com/company/30101254/</td>\n",
       "    </tr>\n",
       "    <tr>\n",
       "      <th>3</th>\n",
       "      <td>https://www.linkedin.com/company/30101254/</td>\n",
       "      <td>22.0</td>\n",
       "      <td>full-time</td>\n",
       "      <td>11-50 employees</td>\n",
       "      <td>Basel</td>\n",
       "      <td>2019</td>\n",
       "      <td>Technology, Information and Internet</td>\n",
       "      <td>Basel, Basel-Stadt</td>\n",
       "      <td>https://www.linkedin.com/company/30101254/</td>\n",
       "    </tr>\n",
       "    <tr>\n",
       "      <th>4</th>\n",
       "      <td>https://www.linkedin.com/company/3302698/</td>\n",
       "      <td>8.0</td>\n",
       "      <td>full-time</td>\n",
       "      <td>11-50 employees</td>\n",
       "      <td>Vancouver</td>\n",
       "      <td>2006</td>\n",
       "      <td>IT Services and IT Consulting</td>\n",
       "      <td>Vancouver, British Columbia</td>\n",
       "      <td>https://www.linkedin.com/company/3302698/</td>\n",
       "    </tr>\n",
       "  </tbody>\n",
       "</table>\n",
       "</div>"
      ],
      "text/plain": [
       "                                   CompanyUrl  Duration EmploymentType  \\\n",
       "0  https://www.linkedin.com/company/30101254/      16.0      full-time   \n",
       "1  https://www.linkedin.com/company/30101254/      16.0      full-time   \n",
       "2  https://www.linkedin.com/company/30101254/       8.0      full-time   \n",
       "3  https://www.linkedin.com/company/30101254/      22.0      full-time   \n",
       "4   https://www.linkedin.com/company/3302698/       8.0      full-time   \n",
       "\n",
       "       companySize   location  founded                              industry  \\\n",
       "0  11-50 employees      Basel     2019  Technology, Information and Internet   \n",
       "1  11-50 employees      Basel     2019  Technology, Information and Internet   \n",
       "2  11-50 employees      Basel     2019  Technology, Information and Internet   \n",
       "3  11-50 employees      Basel     2019  Technology, Information and Internet   \n",
       "4  11-50 employees  Vancouver     2006         IT Services and IT Consulting   \n",
       "\n",
       "                  headquarters                                       query  \n",
       "0           Basel, Basel-Stadt  https://www.linkedin.com/company/30101254/  \n",
       "1           Basel, Basel-Stadt  https://www.linkedin.com/company/30101254/  \n",
       "2           Basel, Basel-Stadt  https://www.linkedin.com/company/30101254/  \n",
       "3           Basel, Basel-Stadt  https://www.linkedin.com/company/30101254/  \n",
       "4  Vancouver, British Columbia   https://www.linkedin.com/company/3302698/  "
      ]
     },
     "execution_count": 71,
     "metadata": {},
     "output_type": "execute_result"
    }
   ],
   "source": [
    "# combine the CompanyUrl with the df_companies dataframe\n",
    "df_employees = df_employees.merge(df_companies, left_on='CompanyUrl', right_on='query')\n",
    "\n",
    "# print na values in data \n",
    "print(\"Percentage of na in Duration: \", df_employees['Duration'].isna().sum()/len(df_employees))\n",
    "\n",
    "# show the head of the dataframe\n",
    "df_employees.head()\n"
   ]
  },
  {
   "attachments": {},
   "cell_type": "markdown",
   "metadata": {},
   "source": [
    "## Number of Employees .vs. Company Size"
   ]
  },
  {
   "cell_type": "code",
   "execution_count": 72,
   "metadata": {},
   "outputs": [
    {
     "data": {
      "text/plain": [
       "<AxesSubplot:title={'center':'Employees by companySize'}, xlabel='companySize'>"
      ]
     },
     "execution_count": 72,
     "metadata": {},
     "output_type": "execute_result"
    },
    {
     "data": {
      "image/png": "[encoded data removed]",
      "text/plain": [
       "<Figure size 1080x360 with 1 Axes>"
      ]
     },
     "metadata": {},
     "output_type": "display_data"
    }
   ],
   "source": [
    "#count number of employees by companySize\n",
    "df_employees.groupby('companySize').size().sort_values(ascending=False).plot(title=\"Employees by companySize\", kind='bar', figsize=(15, 5), color=sns_c[0])"
   ]
  },
  {
   "attachments": {},
   "cell_type": "markdown",
   "metadata": {},
   "source": [
    "## Plotting The average time employees stay .vs. Company Size"
   ]
  },
  {
   "cell_type": "code",
   "execution_count": 73,
   "metadata": {},
   "outputs": [
    {
     "data": {
      "text/plain": [
       "<AxesSubplot:title={'center':'Duration VS CompanySize'}, xlabel='companySize'>"
      ]
     },
     "execution_count": 73,
     "metadata": {},
     "output_type": "execute_result"
    },
    {
     "data": {
      "image/png": "[encoded data removed]",
      "text/plain": [
       "<Figure size 1080x360 with 1 Axes>"
      ]
     },
     "metadata": {},
     "output_type": "display_data"
    }
   ],
   "source": [
    "# average duration by companySize\n",
    "df_employees.groupby('companySize')['Duration'].mean().sort_values(ascending=False).plot(title=\"Duration VS CompanySize\",kind='bar', figsize=(15, 5), color=sns_c[5])"
   ]
  },
  {
   "attachments": {},
   "cell_type": "markdown",
   "metadata": {},
   "source": [
    "## Plotting Whisker plot of duration .vs. CompanySize"
   ]
  },
  {
   "cell_type": "code",
   "execution_count": 74,
   "metadata": {},
   "outputs": [
    {
     "data": {
      "text/plain": [
       "<AxesSubplot:title={'center':'Duration'}, xlabel='companySize'>"
      ]
     },
     "execution_count": 74,
     "metadata": {},
     "output_type": "execute_result"
    },
    {
     "data": {
      "image/png": "[encoded data removed]",
      "text/plain": [
       "<Figure size 1080x360 with 1 Axes>"
      ]
     },
     "metadata": {},
     "output_type": "display_data"
    }
   ],
   "source": [
    "# plot the whisker box plot of duration by companySize\n",
    "df_employees.boxplot(column='Duration', by='companySize', figsize=(15, 5))\n"
   ]
  },
  {
   "attachments": {},
   "cell_type": "markdown",
   "metadata": {},
   "source": [
    "## Show the Numbers of QR1, QR3 , Median"
   ]
  },
  {
   "cell_type": "code",
   "execution_count": 75,
   "metadata": {},
   "outputs": [
    {
     "data": {
      "text/html": [
       "<div>\n",
       "<style scoped>\n",
       "    .dataframe tbody tr th:only-of-type {\n",
       "        vertical-align: middle;\n",
       "    }\n",
       "\n",
       "    .dataframe tbody tr th {\n",
       "        vertical-align: top;\n",
       "    }\n",
       "\n",
       "    .dataframe thead th {\n",
       "        text-align: right;\n",
       "    }\n",
       "</style>\n",
       "<table border=\"1\" class=\"dataframe\">\n",
       "  <thead>\n",
       "    <tr style=\"text-align: right;\">\n",
       "      <th></th>\n",
       "      <th>25%</th>\n",
       "      <th>50%</th>\n",
       "      <th>75%</th>\n",
       "    </tr>\n",
       "    <tr>\n",
       "      <th>companySize</th>\n",
       "      <th></th>\n",
       "      <th></th>\n",
       "      <th></th>\n",
       "    </tr>\n",
       "  </thead>\n",
       "  <tbody>\n",
       "    <tr>\n",
       "      <th>1,001-5,000 employees</th>\n",
       "      <td>6.75</td>\n",
       "      <td>9.0</td>\n",
       "      <td>21.00</td>\n",
       "    </tr>\n",
       "    <tr>\n",
       "      <th>10,001+ employees</th>\n",
       "      <td>8.25</td>\n",
       "      <td>13.5</td>\n",
       "      <td>23.50</td>\n",
       "    </tr>\n",
       "    <tr>\n",
       "      <th>11-50 employees</th>\n",
       "      <td>7.00</td>\n",
       "      <td>12.0</td>\n",
       "      <td>19.00</td>\n",
       "    </tr>\n",
       "    <tr>\n",
       "      <th>2-10 employees</th>\n",
       "      <td>6.25</td>\n",
       "      <td>11.5</td>\n",
       "      <td>16.75</td>\n",
       "    </tr>\n",
       "    <tr>\n",
       "      <th>201-500 employees</th>\n",
       "      <td>8.00</td>\n",
       "      <td>13.0</td>\n",
       "      <td>20.25</td>\n",
       "    </tr>\n",
       "    <tr>\n",
       "      <th>5,001-10,000 employees</th>\n",
       "      <td>14.50</td>\n",
       "      <td>20.0</td>\n",
       "      <td>30.25</td>\n",
       "    </tr>\n",
       "    <tr>\n",
       "      <th>501-1,000 employees</th>\n",
       "      <td>10.00</td>\n",
       "      <td>14.0</td>\n",
       "      <td>19.75</td>\n",
       "    </tr>\n",
       "    <tr>\n",
       "      <th>51-200 employees</th>\n",
       "      <td>7.00</td>\n",
       "      <td>12.5</td>\n",
       "      <td>20.00</td>\n",
       "    </tr>\n",
       "  </tbody>\n",
       "</table>\n",
       "</div>"
      ],
      "text/plain": [
       "                          25%   50%    75%\n",
       "companySize                               \n",
       "1,001-5,000 employees    6.75   9.0  21.00\n",
       "10,001+ employees        8.25  13.5  23.50\n",
       "11-50 employees          7.00  12.0  19.00\n",
       "2-10 employees           6.25  11.5  16.75\n",
       "201-500 employees        8.00  13.0  20.25\n",
       "5,001-10,000 employees  14.50  20.0  30.25\n",
       "501-1,000 employees     10.00  14.0  19.75\n",
       "51-200 employees         7.00  12.5  20.00"
      ]
     },
     "execution_count": 75,
     "metadata": {},
     "output_type": "execute_result"
    }
   ],
   "source": [
    "# print the IQR of duration by companySize as a table\n",
    "df_employees.groupby('companySize')['Duration'].describe()[['25%','50%','75%']]"
   ]
  },
  {
   "attachments": {},
   "cell_type": "markdown",
   "metadata": {},
   "source": [
    "## Show count of outliers in the grouped data"
   ]
  },
  {
   "cell_type": "code",
   "execution_count": 76,
   "metadata": {},
   "outputs": [
    {
     "data": {
      "text/plain": [
       "companySize\n",
       "1,001-5,000 employees     35\n",
       "10,001+ employees         40\n",
       "11-50 employees           96\n",
       "2-10 employees            16\n",
       "201-500 employees         55\n",
       "5,001-10,000 employees     8\n",
       "501-1,000 employees       32\n",
       "51-200 employees          78\n",
       "Name: Duration, dtype: int64"
      ]
     },
     "execution_count": 76,
     "metadata": {},
     "output_type": "execute_result"
    }
   ],
   "source": [
    "# print the number of points of duration higher than 75% , 25% of Quartile by companySize\n",
    "df_employees.groupby('companySize')['Duration'].apply(lambda x: (x > x.quantile(.75)).sum() + (x < x.quantile(.25)).sum())"
   ]
  },
  {
   "cell_type": "code",
   "execution_count": 77,
   "metadata": {},
   "outputs": [
    {
     "data": {
      "text/plain": [
       "companySize\n",
       "1,001-5,000 employees      72\n",
       "10,001+ employees          78\n",
       "11-50 employees           199\n",
       "2-10 employees             30\n",
       "201-500 employees         112\n",
       "5,001-10,000 employees     16\n",
       "501-1,000 employees        66\n",
       "51-200 employees          180\n",
       "dtype: int64"
      ]
     },
     "execution_count": 77,
     "metadata": {},
     "output_type": "execute_result"
    }
   ],
   "source": [
    "\n",
    "# print num of employees in each companySize\n",
    "df_employees.groupby('companySize').size()\n"
   ]
  },
  {
   "attachments": {},
   "cell_type": "markdown",
   "metadata": {},
   "source": [
    "<div style=\"border-width:1; border-radius: 15px; border-style: solid; border-color: rgb(10, 10, 10); background-color: #316B83; text-align: center;font: 14pt 'Candara';font-weight:bold;\"><h1> Stating & Refining QS</h1></div>"
   ]
  },
  {
   "attachments": {},
   "cell_type": "markdown",
   "metadata": {},
   "source": [
    "> #### _`QS:`_ The relation between company attributes and the time software engineer works on it\n",
    "\n",
    ">|Set Expectation | Collect Info | Match Results| \n",
    ">|----|----|----|\n",
    ">| Question is answerable, there exist enough data to answer it.| The data is we have is biased a little bit in each metric to a specific value but we still can take an average due to making our visualizations to be able recover this bias | ✅ |\n",
    ">| The bigger the company the bigger the chance that employee will work in it longer| As we saw in the average graph it's somehow suffering from outliers which we noticed while using Whisker Box Plot , We can figure out from Whisker Box Plot that our expectation can't be confirmed as a right expectation since values are so close to each other so despite that 5k-10k & +10k are leading the board of values we aren't still sure about it  | ❌ |\n",
    ">| The older the company the bigger the chance that employee will work in it longer  | - | - |\n",
    "\n",
    "<br>"
   ]
  },
  {
   "attachments": {},
   "cell_type": "markdown",
   "metadata": {},
   "source": [
    "## Show Average Duration .vs. Founded"
   ]
  },
  {
   "cell_type": "code",
   "execution_count": 82,
   "metadata": {},
   "outputs": [
    {
     "data": {
      "text/plain": [
       "<AxesSubplot:title={'center':'Duration VS Location'}, xlabel='founded'>"
      ]
     },
     "execution_count": 82,
     "metadata": {},
     "output_type": "execute_result"
    },
    {
     "data": {
      "image/png": "[encoded data removed]",
      "text/plain": [
       "<Figure size 1080x360 with 1 Axes>"
      ]
     },
     "metadata": {},
     "output_type": "display_data"
    }
   ],
   "source": [
    "# average duration by location top 20\n",
    "df_employees.groupby('founded')['Duration'].mean().sort_values(ascending=False)[:20].plot(title=\"Duration VS Location\",kind='bar', figsize=(15, 5), color=sns_c[1])"
   ]
  },
  {
   "cell_type": "code",
   "execution_count": 83,
   "metadata": {},
   "outputs": [
    {
     "data": {
      "text/plain": [
       "<AxesSubplot:title={'center':'Duration VS CompanySize and Location'}, xlabel='companySize,founded'>"
      ]
     },
     "execution_count": 83,
     "metadata": {},
     "output_type": "execute_result"
    },
    {
     "data": {
      "image/png": "[encoded data removed]",
      "text/plain": [
       "<Figure size 1080x360 with 1 Axes>"
      ]
     },
     "metadata": {},
     "output_type": "display_data"
    }
   ],
   "source": [
    "# show combination between average duration grouped by both companySize and founded , show top 20\n",
    "df_employees.groupby(['companySize','founded'])['Duration'].mean().sort_values(ascending=False)[:20].plot(title=\"Duration VS CompanySize and Location\",kind='bar', figsize=(15, 5), color=sns_c[2])"
   ]
  },
  {
   "cell_type": "code",
   "execution_count": 104,
   "metadata": {},
   "outputs": [
    {
     "data": {
      "text/html": [
       "<div>\n",
       "<style scoped>\n",
       "    .dataframe tbody tr th:only-of-type {\n",
       "        vertical-align: middle;\n",
       "    }\n",
       "\n",
       "    .dataframe tbody tr th {\n",
       "        vertical-align: top;\n",
       "    }\n",
       "\n",
       "    .dataframe thead th {\n",
       "        text-align: right;\n",
       "    }\n",
       "</style>\n",
       "<table border=\"1\" class=\"dataframe\">\n",
       "  <thead>\n",
       "    <tr style=\"text-align: right;\">\n",
       "      <th></th>\n",
       "      <th></th>\n",
       "      <th>25%</th>\n",
       "      <th>50%</th>\n",
       "      <th>75%</th>\n",
       "    </tr>\n",
       "    <tr>\n",
       "      <th>companySize</th>\n",
       "      <th>founded</th>\n",
       "      <th></th>\n",
       "      <th></th>\n",
       "      <th></th>\n",
       "    </tr>\n",
       "  </thead>\n",
       "  <tbody>\n",
       "    <tr>\n",
       "      <th rowspan=\"3\" valign=\"top\">1,001-5,000 employees</th>\n",
       "      <th>1853</th>\n",
       "      <td>20.00</td>\n",
       "      <td>20.0</td>\n",
       "      <td>20.00</td>\n",
       "    </tr>\n",
       "    <tr>\n",
       "      <th>1919</th>\n",
       "      <td>5.75</td>\n",
       "      <td>11.5</td>\n",
       "      <td>21.75</td>\n",
       "    </tr>\n",
       "    <tr>\n",
       "      <th>1945</th>\n",
       "      <td>22.00</td>\n",
       "      <td>22.0</td>\n",
       "      <td>22.00</td>\n",
       "    </tr>\n",
       "    <tr>\n",
       "      <th rowspan=\"3\" valign=\"top\">10,001+ employees</th>\n",
       "      <th>1816</th>\n",
       "      <td>8.50</td>\n",
       "      <td>12.0</td>\n",
       "      <td>27.50</td>\n",
       "    </tr>\n",
       "    <tr>\n",
       "      <th>1827</th>\n",
       "      <td>5.00</td>\n",
       "      <td>5.0</td>\n",
       "      <td>5.00</td>\n",
       "    </tr>\n",
       "    <tr>\n",
       "      <th>1854</th>\n",
       "      <td>33.00</td>\n",
       "      <td>33.0</td>\n",
       "      <td>33.00</td>\n",
       "    </tr>\n",
       "    <tr>\n",
       "      <th rowspan=\"3\" valign=\"top\">11-50 employees</th>\n",
       "      <th>1992</th>\n",
       "      <td>3.00</td>\n",
       "      <td>3.0</td>\n",
       "      <td>3.00</td>\n",
       "    </tr>\n",
       "    <tr>\n",
       "      <th>1997</th>\n",
       "      <td>12.00</td>\n",
       "      <td>12.0</td>\n",
       "      <td>12.00</td>\n",
       "    </tr>\n",
       "    <tr>\n",
       "      <th>2001</th>\n",
       "      <td>3.00</td>\n",
       "      <td>3.0</td>\n",
       "      <td>3.00</td>\n",
       "    </tr>\n",
       "    <tr>\n",
       "      <th rowspan=\"3\" valign=\"top\">2-10 employees</th>\n",
       "      <th>2009</th>\n",
       "      <td>12.00</td>\n",
       "      <td>12.0</td>\n",
       "      <td>12.00</td>\n",
       "    </tr>\n",
       "    <tr>\n",
       "      <th>2010</th>\n",
       "      <td>31.00</td>\n",
       "      <td>31.0</td>\n",
       "      <td>31.00</td>\n",
       "    </tr>\n",
       "    <tr>\n",
       "      <th>2012</th>\n",
       "      <td>13.00</td>\n",
       "      <td>13.0</td>\n",
       "      <td>13.00</td>\n",
       "    </tr>\n",
       "    <tr>\n",
       "      <th rowspan=\"3\" valign=\"top\">201-500 employees</th>\n",
       "      <th>1973</th>\n",
       "      <td>7.00</td>\n",
       "      <td>7.0</td>\n",
       "      <td>7.00</td>\n",
       "    </tr>\n",
       "    <tr>\n",
       "      <th>1980</th>\n",
       "      <td>15.00</td>\n",
       "      <td>15.0</td>\n",
       "      <td>15.00</td>\n",
       "    </tr>\n",
       "    <tr>\n",
       "      <th>1985</th>\n",
       "      <td>13.00</td>\n",
       "      <td>13.0</td>\n",
       "      <td>13.00</td>\n",
       "    </tr>\n",
       "    <tr>\n",
       "      <th rowspan=\"3\" valign=\"top\">5,001-10,000 employees</th>\n",
       "      <th>1948</th>\n",
       "      <td>20.00</td>\n",
       "      <td>20.0</td>\n",
       "      <td>20.00</td>\n",
       "    </tr>\n",
       "    <tr>\n",
       "      <th>1952</th>\n",
       "      <td>9.00</td>\n",
       "      <td>9.0</td>\n",
       "      <td>9.00</td>\n",
       "    </tr>\n",
       "    <tr>\n",
       "      <th>1964</th>\n",
       "      <td>13.50</td>\n",
       "      <td>23.0</td>\n",
       "      <td>32.50</td>\n",
       "    </tr>\n",
       "    <tr>\n",
       "      <th rowspan=\"3\" valign=\"top\">501-1,000 employees</th>\n",
       "      <th>1944</th>\n",
       "      <td>7.00</td>\n",
       "      <td>7.0</td>\n",
       "      <td>7.00</td>\n",
       "    </tr>\n",
       "    <tr>\n",
       "      <th>1950</th>\n",
       "      <td>60.00</td>\n",
       "      <td>60.0</td>\n",
       "      <td>60.00</td>\n",
       "    </tr>\n",
       "    <tr>\n",
       "      <th>1973</th>\n",
       "      <td>9.00</td>\n",
       "      <td>9.0</td>\n",
       "      <td>9.00</td>\n",
       "    </tr>\n",
       "    <tr>\n",
       "      <th rowspan=\"3\" valign=\"top\">51-200 employees</th>\n",
       "      <th>1983</th>\n",
       "      <td>2.75</td>\n",
       "      <td>3.5</td>\n",
       "      <td>4.25</td>\n",
       "    </tr>\n",
       "    <tr>\n",
       "      <th>1984</th>\n",
       "      <td>22.00</td>\n",
       "      <td>22.0</td>\n",
       "      <td>22.00</td>\n",
       "    </tr>\n",
       "    <tr>\n",
       "      <th>1991</th>\n",
       "      <td>6.00</td>\n",
       "      <td>6.0</td>\n",
       "      <td>6.00</td>\n",
       "    </tr>\n",
       "  </tbody>\n",
       "</table>\n",
       "</div>"
      ],
      "text/plain": [
       "                                  25%   50%    75%\n",
       "companySize            founded                    \n",
       "1,001-5,000 employees  1853     20.00  20.0  20.00\n",
       "                       1919      5.75  11.5  21.75\n",
       "                       1945     22.00  22.0  22.00\n",
       "10,001+ employees      1816      8.50  12.0  27.50\n",
       "                       1827      5.00   5.0   5.00\n",
       "                       1854     33.00  33.0  33.00\n",
       "11-50 employees        1992      3.00   3.0   3.00\n",
       "                       1997     12.00  12.0  12.00\n",
       "                       2001      3.00   3.0   3.00\n",
       "2-10 employees         2009     12.00  12.0  12.00\n",
       "                       2010     31.00  31.0  31.00\n",
       "                       2012     13.00  13.0  13.00\n",
       "201-500 employees      1973      7.00   7.0   7.00\n",
       "                       1980     15.00  15.0  15.00\n",
       "                       1985     13.00  13.0  13.00\n",
       "5,001-10,000 employees 1948     20.00  20.0  20.00\n",
       "                       1952      9.00   9.0   9.00\n",
       "                       1964     13.50  23.0  32.50\n",
       "501-1,000 employees    1944      7.00   7.0   7.00\n",
       "                       1950     60.00  60.0  60.00\n",
       "                       1973      9.00   9.0   9.00\n",
       "51-200 employees       1983      2.75   3.5   4.25\n",
       "                       1984     22.00  22.0  22.00\n",
       "                       1991      6.00   6.0   6.00"
      ]
     },
     "execution_count": 104,
     "metadata": {},
     "output_type": "execute_result"
    },
    {
     "data": {
      "image/png": "[encoded data removed]",
      "text/plain": [
       "<Figure size 1080x360 with 1 Axes>"
      ]
     },
     "metadata": {},
     "output_type": "display_data"
    }
   ],
   "source": [
    "# show whisker box plot of duration grouped by both companySize and founded of top 20 results\n",
    "df_employees.boxplot(column='Duration', by=['companySize','founded'], figsize=(15, 5))\n",
    "\n",
    "# show the IQR of duration grouped by both companySize and founded of top 20 results and limit to 1 result per companySize\n",
    "df_employees.groupby(['companySize','founded'])['Duration'].describe()[['25%','50%','75%']].groupby('companySize').head(3)"
   ]
  },
  {
   "attachments": {},
   "cell_type": "markdown",
   "metadata": {},
   "source": [
    "<div style=\"border-width:1; border-radius: 15px; border-style: solid; border-color: rgb(10, 10, 10); background-color: #316B83; text-align: center;font: 14pt 'Candara';font-weight:bold;\"><h1> Stating & Refining QS</h1></div>"
   ]
  },
  {
   "attachments": {},
   "cell_type": "markdown",
   "metadata": {},
   "source": [
    "> #### _`QS:`_ The relation between company attributes and the time software engineer works on it\n",
    "\n",
    ">|Set Expectation | Collect Info | Match Results| \n",
    ">|----|----|----|\n",
    ">| Question is answerable, there exist enough data to answer it.| The data is we have is biased a little bit in each metric to a specific value but we still can take an average due to making our visualizations to be able recover this bias | ✅ |\n",
    ">| The bigger the company the bigger the chance that employee will work in it longer| As we saw in the average graph it's somehow suffering from outliers which we noticed while using Whisker Box Plot , We can figure out from Whisker Box Plot that our expectation can't be confirmed as a right expectation since values are so close to each other so despite that 5k-10k & +10k are leading the board of values we aren't still sure about it  | ❌ |\n",
    ">| The older the company the bigger the chance that employee will work in it longer  | From the above visualizations we can say that the year of foundation is correlated with the time employee stays in the company  | ✅ |\n",
    "\n",
    "<br>"
   ]
  },
  {
   "attachments": {},
   "cell_type": "markdown",
   "metadata": {},
   "source": [
    "<div style=\"border-width:1; border-radius: 15px; border-style: solid; border-color: rgb(10, 10, 10); background-color: #316B83; text-align: center;font: 14pt 'Candara';font-weight:bold;\"><h1> Interpreting Results</h1></div>"
   ]
  },
  {
   "attachments": {},
   "cell_type": "markdown",
   "metadata": {},
   "source": [
    "## Our Conclusion :\n",
    "- The founded year is a strong metric in affecting on the time employee stays in company where it make sense because older company means more stable & established company & that's a good environment for any employee\n",
    "- The Company size also shows a good metric but not stronger than founded metric \n",
    "- Making a combination between an old company & a big company size would ensure more & more that the employee time within this company will be longer."
   ]
  },
  {
   "attachments": {},
   "cell_type": "markdown",
   "metadata": {},
   "source": []
  }
 ],
 "metadata": {
  "kernelspec": {
   "display_name": "HiVT",
   "language": "python",
   "name": "python3"
  },
  "language_info": {
   "codemirror_mode": {
    "name": "ipython",
    "version": 3
   },
   "file_extension": ".py",
   "mimetype": "text/x-python",
   "name": "python",
   "nbconvert_exporter": "python",
   "pygments_lexer": "ipython3",
   "version": "3.6.13"
  },
  "orig_nbformat": 4,
  "vscode": {
   "interpreter": {
    "hash": "60314a8d3aa5fc3596f5f57b712d271dc597492e130eb7f55220048155540bfa"
   }
  }
 },
 "nbformat": 4,
 "nbformat_minor": 2
}
