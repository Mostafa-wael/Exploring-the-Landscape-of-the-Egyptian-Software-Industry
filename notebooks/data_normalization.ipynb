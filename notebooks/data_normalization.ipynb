{
 "cells": [
  {
   "cell_type": "code",
   "execution_count": 12,
   "metadata": {},
   "outputs": [],
   "source": [
    "import pandas as pd\n",
    "import numpy as np\n",
    "import os"
   ]
  },
  {
   "attachments": {},
   "cell_type": "markdown",
   "metadata": {},
   "source": [
    "# Eduction Info"
   ]
  },
  {
   "cell_type": "code",
   "execution_count": 24,
   "metadata": {},
   "outputs": [
    {
     "data": {
      "text/html": [
       "<div>\n",
       "<style scoped>\n",
       "    .dataframe tbody tr th:only-of-type {\n",
       "        vertical-align: middle;\n",
       "    }\n",
       "\n",
       "    .dataframe tbody tr th {\n",
       "        vertical-align: top;\n",
       "    }\n",
       "\n",
       "    .dataframe thead th {\n",
       "        text-align: right;\n",
       "    }\n",
       "</style>\n",
       "<table border=\"1\" class=\"dataframe\">\n",
       "  <thead>\n",
       "    <tr style=\"text-align: right;\">\n",
       "      <th></th>\n",
       "      <th>University</th>\n",
       "      <th>Degree</th>\n",
       "      <th>Date</th>\n",
       "      <th>User</th>\n",
       "    </tr>\n",
       "  </thead>\n",
       "  <tbody>\n",
       "    <tr>\n",
       "      <th>0</th>\n",
       "      <td>Information Technology Institute (ITI)</td>\n",
       "      <td>Nov 2021 - Jun 2022</td>\n",
       "      <td>NaN</td>\n",
       "      <td>%D9%90%D9%90amiraelmergawy</td>\n",
       "    </tr>\n",
       "    <tr>\n",
       "      <th>1</th>\n",
       "      <td>Ain Shams University</td>\n",
       "      <td>Bachelor's degree, Computer Science</td>\n",
       "      <td>2016 - 2020</td>\n",
       "      <td>%D9%90%D9%90amiraelmergawy</td>\n",
       "    </tr>\n",
       "    <tr>\n",
       "      <th>2</th>\n",
       "      <td>Information Technology Institute (ITI)</td>\n",
       "      <td>Internship, Web Development using MEARN Stack</td>\n",
       "      <td>Dec 2021</td>\n",
       "      <td>-ezz</td>\n",
       "    </tr>\n",
       "    <tr>\n",
       "      <th>3</th>\n",
       "      <td>Al-Azhar University</td>\n",
       "      <td>Geophysics and Seismology</td>\n",
       "      <td>Sep 2015 - Aug 2019</td>\n",
       "      <td>-ezz</td>\n",
       "    </tr>\n",
       "    <tr>\n",
       "      <th>4</th>\n",
       "      <td>Faculty of Petroleum and Mining Engineering, S...</td>\n",
       "      <td>Bachelor's degree, Petroleum Engineering</td>\n",
       "      <td>2015 - 2020</td>\n",
       "      <td>1212mohamedtaha</td>\n",
       "    </tr>\n",
       "  </tbody>\n",
       "</table>\n",
       "</div>"
      ],
      "text/plain": [
       "                                          University  \\\n",
       "0             Information Technology Institute (ITI)   \n",
       "1                               Ain Shams University   \n",
       "2             Information Technology Institute (ITI)   \n",
       "3                                Al-Azhar University   \n",
       "4  Faculty of Petroleum and Mining Engineering, S...   \n",
       "\n",
       "                                          Degree                 Date  \\\n",
       "0                            Nov 2021 - Jun 2022                  NaN   \n",
       "1            Bachelor's degree, Computer Science          2016 - 2020   \n",
       "2  Internship, Web Development using MEARN Stack             Dec 2021   \n",
       "3                      Geophysics and Seismology  Sep 2015 - Aug 2019   \n",
       "4       Bachelor's degree, Petroleum Engineering          2015 - 2020   \n",
       "\n",
       "                         User  \n",
       "0  %D9%90%D9%90amiraelmergawy  \n",
       "1  %D9%90%D9%90amiraelmergawy  \n",
       "2                        -ezz  \n",
       "3                        -ezz  \n",
       "4             1212mohamedtaha  "
      ]
     },
     "execution_count": 24,
     "metadata": {},
     "output_type": "execute_result"
    }
   ],
   "source": [
    "education_df = pd.read_csv('../data/preprocessed-data/csv/educations.csv')\n",
    "education_df.head()"
   ]
  },
  {
   "cell_type": "code",
   "execution_count": 25,
   "metadata": {},
   "outputs": [
    {
     "data": {
      "text/plain": [
       "1287"
      ]
     },
     "execution_count": 25,
     "metadata": {},
     "output_type": "execute_result"
    }
   ],
   "source": [
    "len(education_df)"
   ]
  },
  {
   "cell_type": "code",
   "execution_count": 53,
   "metadata": {},
   "outputs": [],
   "source": [
    "# lower case all university names\n",
    "education_df['University'] = education_df['University'].str.lower()\n",
    "\n",
    "# lower case all degree names\n",
    "education_df['Degree'] = education_df['Degree'].str.lower()\n",
    "\n",
    "# remove all rows with non degree values\n",
    "education_df = education_df[education_df['Degree'].isna() == False]"
   ]
  },
  {
   "cell_type": "code",
   "execution_count": 85,
   "metadata": {},
   "outputs": [],
   "source": [
    "# remove any row has university name include word 'school'\n",
    "education_df = education_df[(~education_df['University'].str.contains('school') | (education_df['University'].str.contains('school')\n",
    "                                                                                   & education_df['University'].str.contains('university')))]\n",
    "# remove any row has university name include word 'udacity'\n",
    "education_df = education_df[~education_df['University'].str.contains('udacity')]\n",
    "\n",
    "# remove any row has university name include word 'udemy'\n",
    "education_df = education_df[~education_df['University'].str.contains('udemy')]\n",
    "\n",
    "# remove any row has university name include word 'coursera'\n",
    "education_df = education_df[~education_df['University'].str.contains('coursera')]\n",
    "\n",
    "# remove any row has university name include word 'harvardx'\n",
    "education_df = education_df[~education_df['University'].str.contains('harvardx')]\n",
    "\n",
    "# remove any row has university name include word 'freecodecamp'\n",
    "education_df = education_df[~education_df['University'].str.contains('freecodecamp')]\n",
    "\n",
    "# remove any row has degree name include word 'High School'\n",
    "education_df = education_df[~education_df['Degree'].str.contains('high school')]"
   ]
  },
  {
   "cell_type": "code",
   "execution_count": 93,
   "metadata": {},
   "outputs": [],
   "source": [
    "education_df['university_name'] = None\n",
    "university_names = ['cairo', 'ain shams', 'alexandria', 'helwan', 'zagazig', 'munich',\n",
    "                     'mansoura', 'azhar', 'menoufia', 'october', 'minufiya', 'benha', 'delta',\n",
    "                     'misr', 'nile', 'suez canal', 'sohag', 'fayoum', 'banha', 'sadat', 'tanta', 'ottawa']\n",
    "for university_name in university_names:\n",
    "    education_df.loc[(education_df['University'].str.contains(university_name) &\n",
    "                      education_df['University'].str.contains('university')), 'university_name'] = university_name\n",
    "special_universities = ['guc', 'miu', 'mti', 'iti', 'modern academy', 'zewail city', 'institute',\n",
    "                        'future', 'thebes', 'el shorouk']\n",
    "for university_name in special_universities:\n",
    "    education_df.loc[education_df['University'].str.contains(university_name), 'university_name'] = university_name"
   ]
  },
  {
   "cell_type": "code",
   "execution_count": 111,
   "metadata": {},
   "outputs": [],
   "source": [
    "education_df['faculty_name'] = None\n",
    "\n",
    "education_df.loc[(education_df['University'].str.contains('computer')| \n",
    "                  education_df['Degree'].str.contains('computer')|\n",
    "                  education_df['Degree'].str.contains('information technology')), 'faculty_name'] = 'computer'\n",
    "\n",
    "education_df.loc[((education_df['faculty_name'].isna()) & \n",
    "                  (education_df['University'].str.contains('engineering')|\n",
    "                   education_df['Degree'].str.contains('engineer')| \n",
    "                   education_df['Degree'].str.contains('engineering')|\n",
    "                   education_df['Degree'].str.contains('communication')|\n",
    "                   education_df['Degree'].str.contains('electronic'))), 'faculty_name'] = 'engineering'"
   ]
  },
  {
   "cell_type": "code",
   "execution_count": 113,
   "metadata": {},
   "outputs": [
    {
     "data": {
      "text/html": [
       "<div>\n",
       "<style scoped>\n",
       "    .dataframe tbody tr th:only-of-type {\n",
       "        vertical-align: middle;\n",
       "    }\n",
       "\n",
       "    .dataframe tbody tr th {\n",
       "        vertical-align: top;\n",
       "    }\n",
       "\n",
       "    .dataframe thead th {\n",
       "        text-align: right;\n",
       "    }\n",
       "</style>\n",
       "<table border=\"1\" class=\"dataframe\">\n",
       "  <thead>\n",
       "    <tr style=\"text-align: right;\">\n",
       "      <th></th>\n",
       "      <th>University</th>\n",
       "      <th>Degree</th>\n",
       "      <th>Date</th>\n",
       "      <th>User</th>\n",
       "      <th>university_name</th>\n",
       "      <th>faculty_name</th>\n",
       "    </tr>\n",
       "  </thead>\n",
       "  <tbody>\n",
       "    <tr>\n",
       "      <th>0</th>\n",
       "      <td>information technology institute (iti)</td>\n",
       "      <td>nov 2021 - jun 2022</td>\n",
       "      <td>NaN</td>\n",
       "      <td>%D9%90%D9%90amiraelmergawy</td>\n",
       "      <td>institute</td>\n",
       "      <td>None</td>\n",
       "    </tr>\n",
       "    <tr>\n",
       "      <th>2</th>\n",
       "      <td>information technology institute (iti)</td>\n",
       "      <td>internship, web development using mearn stack</td>\n",
       "      <td>Dec 2021</td>\n",
       "      <td>-ezz</td>\n",
       "      <td>institute</td>\n",
       "      <td>None</td>\n",
       "    </tr>\n",
       "    <tr>\n",
       "      <th>3</th>\n",
       "      <td>al-azhar university</td>\n",
       "      <td>geophysics and seismology</td>\n",
       "      <td>Sep 2015 - Aug 2019</td>\n",
       "      <td>-ezz</td>\n",
       "      <td>azhar</td>\n",
       "      <td>None</td>\n",
       "    </tr>\n",
       "    <tr>\n",
       "      <th>6</th>\n",
       "      <td>information technology institute (iti)</td>\n",
       "      <td>php full stack diploma</td>\n",
       "      <td>Mar 2021 - Aug 2021</td>\n",
       "      <td>3omarbadr</td>\n",
       "      <td>institute</td>\n",
       "      <td>None</td>\n",
       "    </tr>\n",
       "    <tr>\n",
       "      <th>14</th>\n",
       "      <td>information technology institute (iti)</td>\n",
       "      <td>deploma, unix department</td>\n",
       "      <td>2007 - 2008</td>\n",
       "      <td>aabdelsattaar</td>\n",
       "      <td>institute</td>\n",
       "      <td>None</td>\n",
       "    </tr>\n",
       "    <tr>\n",
       "      <th>...</th>\n",
       "      <td>...</td>\n",
       "      <td>...</td>\n",
       "      <td>...</td>\n",
       "      <td>...</td>\n",
       "      <td>...</td>\n",
       "      <td>...</td>\n",
       "    </tr>\n",
       "    <tr>\n",
       "      <th>1257</th>\n",
       "      <td>reserve officers college</td>\n",
       "      <td>lieutenant, military science and operational s...</td>\n",
       "      <td>Nov 2020 - Apr 2021</td>\n",
       "      <td>youssef-ali97</td>\n",
       "      <td>None</td>\n",
       "      <td>None</td>\n",
       "    </tr>\n",
       "    <tr>\n",
       "      <th>1260</th>\n",
       "      <td>dar eltarbia igcse</td>\n",
       "      <td>igcse</td>\n",
       "      <td>Sep 2012 - Sep 2014</td>\n",
       "      <td>youssef-mazen-2a6a441b4</td>\n",
       "      <td>None</td>\n",
       "      <td>None</td>\n",
       "    </tr>\n",
       "    <tr>\n",
       "      <th>1270</th>\n",
       "      <td>arab academy for science, technology and marit...</td>\n",
       "      <td>2015 - 2019</td>\n",
       "      <td>NaN</td>\n",
       "      <td>yusuf-abdelmoniem-b8934716a</td>\n",
       "      <td>iti</td>\n",
       "      <td>None</td>\n",
       "    </tr>\n",
       "    <tr>\n",
       "      <th>1271</th>\n",
       "      <td>ain shams university</td>\n",
       "      <td>master of science - ms, artificial intelligence</td>\n",
       "      <td>2020 - Jun 2023</td>\n",
       "      <td>yusuf-awad</td>\n",
       "      <td>ain shams</td>\n",
       "      <td>None</td>\n",
       "    </tr>\n",
       "    <tr>\n",
       "      <th>1275</th>\n",
       "      <td>victoria college, alexandria</td>\n",
       "      <td>mathematics</td>\n",
       "      <td>Sep 2002 - Jun 2013</td>\n",
       "      <td>zeyad-el-halawany-543753235</td>\n",
       "      <td>None</td>\n",
       "      <td>None</td>\n",
       "    </tr>\n",
       "  </tbody>\n",
       "</table>\n",
       "<p>242 rows × 6 columns</p>\n",
       "</div>"
      ],
      "text/plain": [
       "                                             University  \\\n",
       "0                information technology institute (iti)   \n",
       "2                information technology institute (iti)   \n",
       "3                                   al-azhar university   \n",
       "6                information technology institute (iti)   \n",
       "14               information technology institute (iti)   \n",
       "...                                                 ...   \n",
       "1257                           reserve officers college   \n",
       "1260                                 dar eltarbia igcse   \n",
       "1270  arab academy for science, technology and marit...   \n",
       "1271                               ain shams university   \n",
       "1275                       victoria college, alexandria   \n",
       "\n",
       "                                                 Degree                 Date  \\\n",
       "0                                   nov 2021 - jun 2022                  NaN   \n",
       "2         internship, web development using mearn stack             Dec 2021   \n",
       "3                             geophysics and seismology  Sep 2015 - Aug 2019   \n",
       "6                                php full stack diploma  Mar 2021 - Aug 2021   \n",
       "14                             deploma, unix department          2007 - 2008   \n",
       "...                                                 ...                  ...   \n",
       "1257  lieutenant, military science and operational s...  Nov 2020 - Apr 2021   \n",
       "1260                                              igcse  Sep 2012 - Sep 2014   \n",
       "1270                                        2015 - 2019                  NaN   \n",
       "1271    master of science - ms, artificial intelligence      2020 - Jun 2023   \n",
       "1275                                        mathematics  Sep 2002 - Jun 2013   \n",
       "\n",
       "                             User university_name faculty_name  \n",
       "0      %D9%90%D9%90amiraelmergawy       institute         None  \n",
       "2                            -ezz       institute         None  \n",
       "3                            -ezz           azhar         None  \n",
       "6                       3omarbadr       institute         None  \n",
       "14                  aabdelsattaar       institute         None  \n",
       "...                           ...             ...          ...  \n",
       "1257                youssef-ali97            None         None  \n",
       "1260      youssef-mazen-2a6a441b4            None         None  \n",
       "1270  yusuf-abdelmoniem-b8934716a             iti         None  \n",
       "1271                   yusuf-awad       ain shams         None  \n",
       "1275  zeyad-el-halawany-543753235            None         None  \n",
       "\n",
       "[242 rows x 6 columns]"
      ]
     },
     "execution_count": 113,
     "metadata": {},
     "output_type": "execute_result"
    }
   ],
   "source": [
    "education_df[education_df['faculty_name'].isna()]\n"
   ]
  },
  {
   "cell_type": "code",
   "execution_count": 114,
   "metadata": {},
   "outputs": [],
   "source": [
    "# save the data\n",
    "education_df.to_csv('educations.csv', index=False)"
   ]
  },
  {
   "attachments": {},
   "cell_type": "markdown",
   "metadata": {},
   "source": [
    "# Skills Info"
   ]
  },
  {
   "cell_type": "code",
   "execution_count": 144,
   "metadata": {},
   "outputs": [
    {
     "data": {
      "text/html": [
       "<div>\n",
       "<style scoped>\n",
       "    .dataframe tbody tr th:only-of-type {\n",
       "        vertical-align: middle;\n",
       "    }\n",
       "\n",
       "    .dataframe tbody tr th {\n",
       "        vertical-align: top;\n",
       "    }\n",
       "\n",
       "    .dataframe thead th {\n",
       "        text-align: right;\n",
       "    }\n",
       "</style>\n",
       "<table border=\"1\" class=\"dataframe\">\n",
       "  <thead>\n",
       "    <tr style=\"text-align: right;\">\n",
       "      <th></th>\n",
       "      <th>User</th>\n",
       "      <th>Skill1</th>\n",
       "      <th>Skill2</th>\n",
       "      <th>Skill3</th>\n",
       "    </tr>\n",
       "  </thead>\n",
       "  <tbody>\n",
       "    <tr>\n",
       "      <th>0</th>\n",
       "      <td>%D9%90%D9%90amiraelmergawy</td>\n",
       "      <td>programming</td>\n",
       "      <td>web development</td>\n",
       "      <td>java</td>\n",
       "    </tr>\n",
       "    <tr>\n",
       "      <th>1</th>\n",
       "      <td>-ezz</td>\n",
       "      <td>web development</td>\n",
       "      <td>javascript</td>\n",
       "      <td>node.js</td>\n",
       "    </tr>\n",
       "    <tr>\n",
       "      <th>2</th>\n",
       "      <td>1212mohamedtaha</td>\n",
       "      <td>natural language processing (nlp)</td>\n",
       "      <td>datastage</td>\n",
       "      <td>teradata</td>\n",
       "    </tr>\n",
       "    <tr>\n",
       "      <th>3</th>\n",
       "      <td>3omarbadr</td>\n",
       "      <td>php</td>\n",
       "      <td>laravel</td>\n",
       "      <td>mysql</td>\n",
       "    </tr>\n",
       "    <tr>\n",
       "      <th>4</th>\n",
       "      <td>a-mohsen</td>\n",
       "      <td>google cloud platform (gcp)</td>\n",
       "      <td>optimization</td>\n",
       "      <td>scalability</td>\n",
       "    </tr>\n",
       "  </tbody>\n",
       "</table>\n",
       "</div>"
      ],
      "text/plain": [
       "                         User                             Skill1  \\\n",
       "0  %D9%90%D9%90amiraelmergawy                        programming   \n",
       "1                        -ezz                    web development   \n",
       "2             1212mohamedtaha  natural language processing (nlp)   \n",
       "3                   3omarbadr                                php   \n",
       "4                    a-mohsen        google cloud platform (gcp)   \n",
       "\n",
       "            Skill2       Skill3  \n",
       "0  web development         java  \n",
       "1       javascript      node.js  \n",
       "2        datastage     teradata  \n",
       "3          laravel        mysql  \n",
       "4     optimization  scalability  "
      ]
     },
     "execution_count": 144,
     "metadata": {},
     "output_type": "execute_result"
    }
   ],
   "source": [
    "skills_df = pd.read_csv('../data/preprocessed-data/csv/skills.csv')\n",
    "skills_df['Skill1'] = skills_df['Skill1'].str.lower()\n",
    "skills_df['Skill2'] = skills_df['Skill2'].str.lower()\n",
    "skills_df['Skill3'] = skills_df['Skill3'].str.lower()\n",
    "\n",
    "\n",
    "skills_df.head()"
   ]
  },
  {
   "cell_type": "code",
   "execution_count": 145,
   "metadata": {},
   "outputs": [],
   "source": [
    "skills_df.fillna('*', inplace=True)"
   ]
  },
  {
   "cell_type": "code",
   "execution_count": 146,
   "metadata": {},
   "outputs": [],
   "source": [
    "skills_columns = ['Skill1', 'Skill2', 'Skill3']\n",
    "\n",
    "for column in skills_columns:\n",
    "    skills_df.loc[skills_df[column].str.contains('front'), column] = 'front-end'\n",
    "    skills_df.loc[skills_df[column].str.contains('back'), column] = 'back-end'\n",
    "    skills_df.loc[skills_df[column].str.contains('full'), column] = 'full-stack'\n",
    "    skills_df.loc[skills_df[column].str.contains('react'), column] = 'react'\n",
    "    skills_df.loc[skills_df[column].str.contains('angular'), column] = 'angular'\n",
    "    skills_df.loc[skills_df[column].str.contains('vue'), column] = 'vue'\n",
    "    skills_df.loc[skills_df[column].str.contains('node'), column] = 'node'\n",
    "    skills_df.loc[skills_df[column].str.contains('express'), column] = 'express'\n",
    "    skills_df.loc[skills_df[column].str.contains('html'), column] = 'html'\n",
    "    skills_df.loc[skills_df[column].str.contains('css'), column] = 'css'\n",
    "    skills_df.loc[skills_df[column].str.contains('javascript'), column] = 'javascript'\n",
    "    skills_df.loc[skills_df[column].str.contains('python'), column] = 'python'\n",
    "    skills_df.loc[skills_df[column].str.contains('c\\+\\+'), column] = 'c++'\n",
    "    skills_df.loc[skills_df[column].str.contains('sql'), column] = 'sql'"
   ]
  },
  {
   "cell_type": "code",
   "execution_count": 147,
   "metadata": {},
   "outputs": [],
   "source": [
    "# get all skills\n",
    "skills = []\n",
    "for index, row in skills_df.iterrows():\n",
    "    skills.append(row['Skill1'])\n",
    "    skills.append(row['Skill2'])\n",
    "    skills.append(row['Skill3'])\n",
    "\n",
    "# get count of each skill\n",
    "skills_count = {}\n",
    "for skill in skills:\n",
    "    if skill in skills_count:\n",
    "        skills_count[skill] += 1\n",
    "    else:\n",
    "        skills_count[skill] = 1\n",
    "\n",
    "# remove duplicates\n",
    "skills = list(set(skills))\n",
    "\n",
    "# remove nan\n",
    "skills = [skill for skill in skills if str(skill) != 'nan']"
   ]
  },
  {
   "cell_type": "code",
   "execution_count": 148,
   "metadata": {},
   "outputs": [
    {
     "data": {
      "text/plain": [
       "622"
      ]
     },
     "execution_count": 148,
     "metadata": {},
     "output_type": "execute_result"
    }
   ],
   "source": [
    "len(skills)"
   ]
  },
  {
   "cell_type": "code",
   "execution_count": 149,
   "metadata": {},
   "outputs": [],
   "source": [
    "# save the data\n",
    "skills_df.to_csv('skills.csv', index=False)"
   ]
  },
  {
   "cell_type": "code",
   "execution_count": null,
   "metadata": {},
   "outputs": [],
   "source": []
  }
 ],
 "metadata": {
  "kernelspec": {
   "display_name": "HiVT",
   "language": "python",
   "name": "python3"
  },
  "language_info": {
   "codemirror_mode": {
    "name": "ipython",
    "version": 3
   },
   "file_extension": ".py",
   "mimetype": "text/x-python",
   "name": "python",
   "nbconvert_exporter": "python",
   "pygments_lexer": "ipython3",
   "version": "3.8.16"
  },
  "orig_nbformat": 4,
  "vscode": {
   "interpreter": {
    "hash": "60314a8d3aa5fc3596f5f57b712d271dc597492e130eb7f55220048155540bfa"
   }
  }
 },
 "nbformat": 4,
 "nbformat_minor": 2
}
