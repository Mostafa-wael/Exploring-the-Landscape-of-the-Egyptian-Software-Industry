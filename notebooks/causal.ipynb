{
 "cells": [
  {
   "attachments": {},
   "cell_type": "markdown",
   "metadata": {},
   "source": [
    "# The relation between joining ITI and working in the software industry"
   ]
  },
  {
   "attachments": {},
   "cell_type": "markdown",
   "metadata": {},
   "source": [
    "<div style=\"border-width:1; border-radius: 15px; border-style: solid; border-color: rgb(10, 10, 10); background-color: #316B83; text-align: center;font: 14pt 'Candara';font-weight:bold;\"><h1> Stating the QS</h1></div>"
   ]
  },
  {
   "attachments": {},
   "cell_type": "markdown",
   "metadata": {},
   "source": [
    "> #### _`QS:`_ People have to join ITI to be able to work in the software industry?  \n",
    ">|Set Expectation | Collect Info | Match Results| \n",
    ">|----|----|----|\n",
    ">| Question is answerable, there exist enough data to answer it.| - | - |\n",
    "<br>"
   ]
  },
  {
   "attachments": {},
   "cell_type": "markdown",
   "metadata": {},
   "source": [
    "## Imports\n"
   ]
  },
  {
   "cell_type": "code",
   "execution_count": 137,
   "metadata": {},
   "outputs": [],
   "source": [
    "import pandas as pd\n",
    "import numpy as np\n",
    "import matplotlib.pyplot as plt\n",
    "import seaborn as sns"
   ]
  },
  {
   "cell_type": "code",
   "execution_count": 138,
   "metadata": {},
   "outputs": [],
   "source": [
    "sns.set_style(\n",
    "    style='darkgrid', \n",
    "    rc={'axes.facecolor': '.9', 'grid.color': '.8'}\n",
    ")\n",
    "sns.set_palette(palette='deep')\n",
    "sns_c = sns.color_palette(palette='deep')"
   ]
  },
  {
   "attachments": {},
   "cell_type": "markdown",
   "metadata": {},
   "source": [
    "<div style=\"border-width:1; border-radius: 15px; border-style: solid; border-color: rgb(10, 10, 10); background-color: #316B83; text-align: center;font: 14pt 'Candara';font-weight:bold;\"><h1> Data Exploration</h1></div>"
   ]
  },
  {
   "attachments": {},
   "cell_type": "markdown",
   "metadata": {},
   "source": [
    "## Read the Education data"
   ]
  },
  {
   "cell_type": "code",
   "execution_count": 139,
   "metadata": {},
   "outputs": [
    {
     "name": "stdout",
     "output_type": "stream",
     "text": [
      "(1097, 6)\n"
     ]
    },
    {
     "data": {
      "text/html": [
       "<div>\n",
       "<style scoped>\n",
       "    .dataframe tbody tr th:only-of-type {\n",
       "        vertical-align: middle;\n",
       "    }\n",
       "\n",
       "    .dataframe tbody tr th {\n",
       "        vertical-align: top;\n",
       "    }\n",
       "\n",
       "    .dataframe thead th {\n",
       "        text-align: right;\n",
       "    }\n",
       "</style>\n",
       "<table border=\"1\" class=\"dataframe\">\n",
       "  <thead>\n",
       "    <tr style=\"text-align: right;\">\n",
       "      <th></th>\n",
       "      <th>University</th>\n",
       "      <th>Degree</th>\n",
       "      <th>Date</th>\n",
       "      <th>User</th>\n",
       "      <th>university_name</th>\n",
       "      <th>faculty_name</th>\n",
       "    </tr>\n",
       "  </thead>\n",
       "  <tbody>\n",
       "    <tr>\n",
       "      <th>0</th>\n",
       "      <td>information technology institute (iti)</td>\n",
       "      <td>nov 2021 - jun 2022</td>\n",
       "      <td>NaN</td>\n",
       "      <td>%D9%90%D9%90amiraelmergawy</td>\n",
       "      <td>#iti</td>\n",
       "      <td>NaN</td>\n",
       "    </tr>\n",
       "    <tr>\n",
       "      <th>1</th>\n",
       "      <td>ain shams university</td>\n",
       "      <td>bachelor's degree, computer science</td>\n",
       "      <td>2016 - 2020</td>\n",
       "      <td>%D9%90%D9%90amiraelmergawy</td>\n",
       "      <td>ain shams</td>\n",
       "      <td>computer</td>\n",
       "    </tr>\n",
       "    <tr>\n",
       "      <th>2</th>\n",
       "      <td>information technology institute (iti)</td>\n",
       "      <td>internship, web development using mearn stack</td>\n",
       "      <td>Dec 2021</td>\n",
       "      <td>-ezz</td>\n",
       "      <td>#iti</td>\n",
       "      <td>NaN</td>\n",
       "    </tr>\n",
       "    <tr>\n",
       "      <th>3</th>\n",
       "      <td>al-azhar university</td>\n",
       "      <td>geophysics and seismology</td>\n",
       "      <td>Sep 2015 - Aug 2019</td>\n",
       "      <td>-ezz</td>\n",
       "      <td>azhar</td>\n",
       "      <td>science</td>\n",
       "    </tr>\n",
       "    <tr>\n",
       "      <th>4</th>\n",
       "      <td>faculty of petroleum and mining engineering, s...</td>\n",
       "      <td>bachelor's degree, petroleum engineering</td>\n",
       "      <td>2015 - 2020</td>\n",
       "      <td>1212mohamedtaha</td>\n",
       "      <td>NaN</td>\n",
       "      <td>petroleum</td>\n",
       "    </tr>\n",
       "  </tbody>\n",
       "</table>\n",
       "</div>"
      ],
      "text/plain": [
       "                                          University  \\\n",
       "0             information technology institute (iti)   \n",
       "1                               ain shams university   \n",
       "2             information technology institute (iti)   \n",
       "3                                al-azhar university   \n",
       "4  faculty of petroleum and mining engineering, s...   \n",
       "\n",
       "                                          Degree                 Date  \\\n",
       "0                            nov 2021 - jun 2022                  NaN   \n",
       "1            bachelor's degree, computer science          2016 - 2020   \n",
       "2  internship, web development using mearn stack             Dec 2021   \n",
       "3                      geophysics and seismology  Sep 2015 - Aug 2019   \n",
       "4       bachelor's degree, petroleum engineering          2015 - 2020   \n",
       "\n",
       "                         User university_name faculty_name  \n",
       "0  %D9%90%D9%90amiraelmergawy            #iti          NaN  \n",
       "1  %D9%90%D9%90amiraelmergawy       ain shams     computer  \n",
       "2                        -ezz            #iti          NaN  \n",
       "3                        -ezz           azhar      science  \n",
       "4             1212mohamedtaha             NaN    petroleum  "
      ]
     },
     "execution_count": 139,
     "metadata": {},
     "output_type": "execute_result"
    }
   ],
   "source": [
    "education_df = pd.read_csv('../data/preprocessed-data/normalized csv/educations.csv')\n",
    "print(education_df.shape)\n",
    "education_df.head()"
   ]
  },
  {
   "attachments": {},
   "cell_type": "markdown",
   "metadata": {},
   "source": [
    "## Read the Experiences data"
   ]
  },
  {
   "cell_type": "code",
   "execution_count": 140,
   "metadata": {},
   "outputs": [
    {
     "name": "stdout",
     "output_type": "stream",
     "text": [
      "(3403, 10)\n"
     ]
    },
    {
     "data": {
      "text/html": [
       "<div>\n",
       "<style scoped>\n",
       "    .dataframe tbody tr th:only-of-type {\n",
       "        vertical-align: middle;\n",
       "    }\n",
       "\n",
       "    .dataframe tbody tr th {\n",
       "        vertical-align: top;\n",
       "    }\n",
       "\n",
       "    .dataframe thead th {\n",
       "        text-align: right;\n",
       "    }\n",
       "</style>\n",
       "<table border=\"1\" class=\"dataframe\">\n",
       "  <thead>\n",
       "    <tr style=\"text-align: right;\">\n",
       "      <th></th>\n",
       "      <th>User</th>\n",
       "      <th>CompanyUrl</th>\n",
       "      <th>Company</th>\n",
       "      <th>Title</th>\n",
       "      <th>EmploymentType</th>\n",
       "      <th>From</th>\n",
       "      <th>To</th>\n",
       "      <th>Duration</th>\n",
       "      <th>Location</th>\n",
       "      <th>title_tag</th>\n",
       "    </tr>\n",
       "  </thead>\n",
       "  <tbody>\n",
       "    <tr>\n",
       "      <th>0</th>\n",
       "      <td>%D9%90%D9%90amiraelmergawy</td>\n",
       "      <td>https://www.linkedin.com/company/294614/</td>\n",
       "      <td>Information Technology Institute (ITI)</td>\n",
       "      <td>teaching assistant</td>\n",
       "      <td>Full-time</td>\n",
       "      <td>2022-08-01</td>\n",
       "      <td>Present</td>\n",
       "      <td>9.0</td>\n",
       "      <td>Egypt</td>\n",
       "      <td>Teaching</td>\n",
       "    </tr>\n",
       "    <tr>\n",
       "      <th>1</th>\n",
       "      <td>%D9%90%D9%90amiraelmergawy</td>\n",
       "      <td>https://www.linkedin.com/company/15805726/</td>\n",
       "      <td>National Telecommunication Institute (NTI)</td>\n",
       "      <td>mean stack developer</td>\n",
       "      <td>Internship</td>\n",
       "      <td>2020-11-01</td>\n",
       "      <td>Jan 2021</td>\n",
       "      <td>3.0</td>\n",
       "      <td>NaN</td>\n",
       "      <td>Fullstack</td>\n",
       "    </tr>\n",
       "    <tr>\n",
       "      <th>2</th>\n",
       "      <td>%D9%90%D9%90amiraelmergawy</td>\n",
       "      <td>https://www.linkedin.com/company/18305384/</td>\n",
       "      <td>الجهاز المركزي للتعبئة العامة و الاحصاء</td>\n",
       "      <td>software developer</td>\n",
       "      <td>Internship</td>\n",
       "      <td>2019-07-01</td>\n",
       "      <td>NaN</td>\n",
       "      <td>1.0</td>\n",
       "      <td>Cairo, Egypt</td>\n",
       "      <td>Software</td>\n",
       "    </tr>\n",
       "    <tr>\n",
       "      <th>3</th>\n",
       "      <td>%D9%90%D9%90amiraelmergawy</td>\n",
       "      <td>https://www.linkedin.com/company/2205041/</td>\n",
       "      <td>(ISCC) Information Systems and Computers Center</td>\n",
       "      <td>software developer</td>\n",
       "      <td>Internship</td>\n",
       "      <td>2018-08-01</td>\n",
       "      <td>NaN</td>\n",
       "      <td>1.0</td>\n",
       "      <td>Cairo, Egypt</td>\n",
       "      <td>Software</td>\n",
       "    </tr>\n",
       "    <tr>\n",
       "      <th>4</th>\n",
       "      <td>-ezz</td>\n",
       "      <td>https://www.linkedin.com/company/30101254/</td>\n",
       "      <td>sonono</td>\n",
       "      <td>software engineer</td>\n",
       "      <td>Full-time</td>\n",
       "      <td>2022-01-01</td>\n",
       "      <td>Present</td>\n",
       "      <td>16.0</td>\n",
       "      <td>Basel, Switzerland</td>\n",
       "      <td>Software</td>\n",
       "    </tr>\n",
       "  </tbody>\n",
       "</table>\n",
       "</div>"
      ],
      "text/plain": [
       "                         User                                  CompanyUrl  \\\n",
       "0  %D9%90%D9%90amiraelmergawy    https://www.linkedin.com/company/294614/   \n",
       "1  %D9%90%D9%90amiraelmergawy  https://www.linkedin.com/company/15805726/   \n",
       "2  %D9%90%D9%90amiraelmergawy  https://www.linkedin.com/company/18305384/   \n",
       "3  %D9%90%D9%90amiraelmergawy   https://www.linkedin.com/company/2205041/   \n",
       "4                        -ezz  https://www.linkedin.com/company/30101254/   \n",
       "\n",
       "                                           Company                 Title  \\\n",
       "0           Information Technology Institute (ITI)    teaching assistant   \n",
       "1       National Telecommunication Institute (NTI)  mean stack developer   \n",
       "2          الجهاز المركزي للتعبئة العامة و الاحصاء    software developer   \n",
       "3  (ISCC) Information Systems and Computers Center    software developer   \n",
       "4                                           sonono     software engineer   \n",
       "\n",
       "  EmploymentType        From        To  Duration            Location  \\\n",
       "0      Full-time  2022-08-01   Present       9.0               Egypt   \n",
       "1     Internship  2020-11-01  Jan 2021       3.0                 NaN   \n",
       "2     Internship  2019-07-01       NaN       1.0        Cairo, Egypt   \n",
       "3     Internship  2018-08-01       NaN       1.0        Cairo, Egypt   \n",
       "4      Full-time  2022-01-01   Present      16.0  Basel, Switzerland   \n",
       "\n",
       "   title_tag  \n",
       "0   Teaching  \n",
       "1  Fullstack  \n",
       "2   Software  \n",
       "3   Software  \n",
       "4   Software  "
      ]
     },
     "execution_count": 140,
     "metadata": {},
     "output_type": "execute_result"
    }
   ],
   "source": [
    "experience_df = pd.read_csv('../data/preprocessed-data/normalized csv/experiences.csv')\n",
    "print(experience_df.shape)\n",
    "experience_df.head()"
   ]
  },
  {
   "attachments": {},
   "cell_type": "markdown",
   "metadata": {},
   "source": [
    "## Filter Undergrads"
   ]
  },
  {
   "cell_type": "code",
   "execution_count": 141,
   "metadata": {},
   "outputs": [
    {
     "name": "stdout",
     "output_type": "stream",
     "text": [
      "(2673, 10)\n"
     ]
    },
    {
     "data": {
      "text/html": [
       "<div>\n",
       "<style scoped>\n",
       "    .dataframe tbody tr th:only-of-type {\n",
       "        vertical-align: middle;\n",
       "    }\n",
       "\n",
       "    .dataframe tbody tr th {\n",
       "        vertical-align: top;\n",
       "    }\n",
       "\n",
       "    .dataframe thead th {\n",
       "        text-align: right;\n",
       "    }\n",
       "</style>\n",
       "<table border=\"1\" class=\"dataframe\">\n",
       "  <thead>\n",
       "    <tr style=\"text-align: right;\">\n",
       "      <th></th>\n",
       "      <th>User</th>\n",
       "      <th>CompanyUrl</th>\n",
       "      <th>Company</th>\n",
       "      <th>Title</th>\n",
       "      <th>EmploymentType</th>\n",
       "      <th>From</th>\n",
       "      <th>To</th>\n",
       "      <th>Duration</th>\n",
       "      <th>Location</th>\n",
       "      <th>title_tag</th>\n",
       "    </tr>\n",
       "  </thead>\n",
       "  <tbody>\n",
       "    <tr>\n",
       "      <th>4</th>\n",
       "      <td>-ezz</td>\n",
       "      <td>https://www.linkedin.com/company/30101254/</td>\n",
       "      <td>sonono</td>\n",
       "      <td>software engineer</td>\n",
       "      <td>Full-time</td>\n",
       "      <td>2022-01-01</td>\n",
       "      <td>Present</td>\n",
       "      <td>16.0</td>\n",
       "      <td>Basel, Switzerland</td>\n",
       "      <td>Software</td>\n",
       "    </tr>\n",
       "    <tr>\n",
       "      <th>6</th>\n",
       "      <td>-ezz</td>\n",
       "      <td>UNKNOWN</td>\n",
       "      <td>CEL - Consulting Engineering Bureau</td>\n",
       "      <td>senior geotechnical engineer</td>\n",
       "      <td>Full-time</td>\n",
       "      <td>2019-09-01</td>\n",
       "      <td>Aug 2020</td>\n",
       "      <td>12.0</td>\n",
       "      <td>Egypt</td>\n",
       "      <td>NaN</td>\n",
       "    </tr>\n",
       "    <tr>\n",
       "      <th>7</th>\n",
       "      <td>1212mohamedtaha</td>\n",
       "      <td>https://www.linkedin.com/company/777868/</td>\n",
       "      <td>Etisalat Misr</td>\n",
       "      <td>big data engineer</td>\n",
       "      <td>Full-time</td>\n",
       "      <td>2022-05-01</td>\n",
       "      <td>Present</td>\n",
       "      <td>12.0</td>\n",
       "      <td>New Cairo, Cairo, Egypt</td>\n",
       "      <td>Data</td>\n",
       "    </tr>\n",
       "    <tr>\n",
       "      <th>9</th>\n",
       "      <td>1212mohamedtaha</td>\n",
       "      <td>https://www.linkedin.com/company/2229028/</td>\n",
       "      <td>The Translation Gate, LLC</td>\n",
       "      <td>english / arabic translator</td>\n",
       "      <td>Freelance</td>\n",
       "      <td>2021-01-01</td>\n",
       "      <td>Mar 2021</td>\n",
       "      <td>3.0</td>\n",
       "      <td>Remote</td>\n",
       "      <td>NaN</td>\n",
       "    </tr>\n",
       "    <tr>\n",
       "      <th>10</th>\n",
       "      <td>3omarbadr</td>\n",
       "      <td>https://www.linkedin.com/company/18899346/</td>\n",
       "      <td>ACME SAICO - Integrated Engineering Systems -(...</td>\n",
       "      <td>software engineer</td>\n",
       "      <td>Full-time</td>\n",
       "      <td>2022-09-01</td>\n",
       "      <td>Present</td>\n",
       "      <td>8.0</td>\n",
       "      <td>Heliopolis, Cairo, Egypt</td>\n",
       "      <td>Software</td>\n",
       "    </tr>\n",
       "  </tbody>\n",
       "</table>\n",
       "</div>"
      ],
      "text/plain": [
       "               User                                  CompanyUrl  \\\n",
       "4              -ezz  https://www.linkedin.com/company/30101254/   \n",
       "6              -ezz                                     UNKNOWN   \n",
       "7   1212mohamedtaha    https://www.linkedin.com/company/777868/   \n",
       "9   1212mohamedtaha   https://www.linkedin.com/company/2229028/   \n",
       "10        3omarbadr  https://www.linkedin.com/company/18899346/   \n",
       "\n",
       "                                              Company  \\\n",
       "4                                              sonono   \n",
       "6                 CEL - Consulting Engineering Bureau   \n",
       "7                                       Etisalat Misr   \n",
       "9                           The Translation Gate, LLC   \n",
       "10  ACME SAICO - Integrated Engineering Systems -(...   \n",
       "\n",
       "                           Title EmploymentType        From        To  \\\n",
       "4              software engineer      Full-time  2022-01-01   Present   \n",
       "6   senior geotechnical engineer      Full-time  2019-09-01  Aug 2020   \n",
       "7              big data engineer      Full-time  2022-05-01   Present   \n",
       "9    english / arabic translator      Freelance  2021-01-01  Mar 2021   \n",
       "10             software engineer      Full-time  2022-09-01   Present   \n",
       "\n",
       "    Duration                  Location title_tag  \n",
       "4       16.0        Basel, Switzerland  Software  \n",
       "6       12.0                     Egypt       NaN  \n",
       "7       12.0   New Cairo, Cairo, Egypt      Data  \n",
       "9        3.0                    Remote       NaN  \n",
       "10       8.0  Heliopolis, Cairo, Egypt  Software  "
      ]
     },
     "execution_count": 141,
     "metadata": {},
     "output_type": "execute_result"
    }
   ],
   "source": [
    "experience_df = experience_df[(experience_df['title_tag'] != 'Internship') & (experience_df['EmploymentType'] != 'Internship')]\n",
    "experience_df = experience_df[(experience_df['title_tag'] != 'Student')]\n",
    "experience_df = experience_df[(experience_df['title_tag'] != 'Teaching')]\n",
    "print(experience_df.shape)\n",
    "experience_df.head()"
   ]
  },
  {
   "attachments": {},
   "cell_type": "markdown",
   "metadata": {},
   "source": [
    "## Get the Last Job of each User"
   ]
  },
  {
   "cell_type": "code",
   "execution_count": 142,
   "metadata": {},
   "outputs": [
    {
     "name": "stdout",
     "output_type": "stream",
     "text": [
      "(820, 10)\n"
     ]
    },
    {
     "data": {
      "text/html": [
       "<div>\n",
       "<style scoped>\n",
       "    .dataframe tbody tr th:only-of-type {\n",
       "        vertical-align: middle;\n",
       "    }\n",
       "\n",
       "    .dataframe tbody tr th {\n",
       "        vertical-align: top;\n",
       "    }\n",
       "\n",
       "    .dataframe thead th {\n",
       "        text-align: right;\n",
       "    }\n",
       "</style>\n",
       "<table border=\"1\" class=\"dataframe\">\n",
       "  <thead>\n",
       "    <tr style=\"text-align: right;\">\n",
       "      <th></th>\n",
       "      <th>User</th>\n",
       "      <th>CompanyUrl</th>\n",
       "      <th>Company</th>\n",
       "      <th>Title</th>\n",
       "      <th>EmploymentType</th>\n",
       "      <th>From</th>\n",
       "      <th>To</th>\n",
       "      <th>Duration</th>\n",
       "      <th>Location</th>\n",
       "      <th>title_tag</th>\n",
       "    </tr>\n",
       "  </thead>\n",
       "  <tbody>\n",
       "    <tr>\n",
       "      <th>0</th>\n",
       "      <td>-ezz</td>\n",
       "      <td>UNKNOWN</td>\n",
       "      <td>CEL - Consulting Engineering Bureau</td>\n",
       "      <td>senior geotechnical engineer</td>\n",
       "      <td>Full-time</td>\n",
       "      <td>2019-09-01</td>\n",
       "      <td>Aug 2020</td>\n",
       "      <td>12.0</td>\n",
       "      <td>Egypt</td>\n",
       "      <td>Software</td>\n",
       "    </tr>\n",
       "    <tr>\n",
       "      <th>1</th>\n",
       "      <td>1212mohamedtaha</td>\n",
       "      <td>https://www.linkedin.com/company/2229028/</td>\n",
       "      <td>The Translation Gate, LLC</td>\n",
       "      <td>english / arabic translator</td>\n",
       "      <td>Freelance</td>\n",
       "      <td>2021-01-01</td>\n",
       "      <td>Mar 2021</td>\n",
       "      <td>3.0</td>\n",
       "      <td>Remote</td>\n",
       "      <td>Data</td>\n",
       "    </tr>\n",
       "    <tr>\n",
       "      <th>2</th>\n",
       "      <td>3omarbadr</td>\n",
       "      <td>https://www.linkedin.com/company/3302698/</td>\n",
       "      <td>Numinix Web Development Ltd</td>\n",
       "      <td>software engineer</td>\n",
       "      <td>Full-time</td>\n",
       "      <td>2022-01-01</td>\n",
       "      <td>Aug 2022</td>\n",
       "      <td>8.0</td>\n",
       "      <td>Alexandria, Egypt</td>\n",
       "      <td>Software</td>\n",
       "    </tr>\n",
       "    <tr>\n",
       "      <th>3</th>\n",
       "      <td>a-mohsen</td>\n",
       "      <td>https://www.linkedin.com/company/553347/</td>\n",
       "      <td>Appspro</td>\n",
       "      <td>oracle paas trainee</td>\n",
       "      <td>Part-time</td>\n",
       "      <td>2018-04-01</td>\n",
       "      <td>Jun 2018</td>\n",
       "      <td>3.0</td>\n",
       "      <td>Cairo Governorate, Egypt</td>\n",
       "      <td>Software</td>\n",
       "    </tr>\n",
       "    <tr>\n",
       "      <th>4</th>\n",
       "      <td>a-nan-farag-b78a0b12b</td>\n",
       "      <td>https://www.linkedin.com/company/6538816/</td>\n",
       "      <td>ITG EGYPT</td>\n",
       "      <td>full stack engineer</td>\n",
       "      <td>Full-time</td>\n",
       "      <td>2016-12-01</td>\n",
       "      <td>Apr 2018</td>\n",
       "      <td>17.0</td>\n",
       "      <td>Villa 8 Mohamed Al Gizawi St. the First Settle...</td>\n",
       "      <td>Fullstack</td>\n",
       "    </tr>\n",
       "  </tbody>\n",
       "</table>\n",
       "</div>"
      ],
      "text/plain": [
       "                    User                                 CompanyUrl  \\\n",
       "0                   -ezz                                    UNKNOWN   \n",
       "1        1212mohamedtaha  https://www.linkedin.com/company/2229028/   \n",
       "2              3omarbadr  https://www.linkedin.com/company/3302698/   \n",
       "3               a-mohsen   https://www.linkedin.com/company/553347/   \n",
       "4  a-nan-farag-b78a0b12b  https://www.linkedin.com/company/6538816/   \n",
       "\n",
       "                               Company                         Title  \\\n",
       "0  CEL - Consulting Engineering Bureau  senior geotechnical engineer   \n",
       "1            The Translation Gate, LLC   english / arabic translator   \n",
       "2          Numinix Web Development Ltd             software engineer   \n",
       "3                              Appspro           oracle paas trainee   \n",
       "4                            ITG EGYPT           full stack engineer   \n",
       "\n",
       "  EmploymentType        From        To  Duration  \\\n",
       "0      Full-time  2019-09-01  Aug 2020      12.0   \n",
       "1      Freelance  2021-01-01  Mar 2021       3.0   \n",
       "2      Full-time  2022-01-01  Aug 2022       8.0   \n",
       "3      Part-time  2018-04-01  Jun 2018       3.0   \n",
       "4      Full-time  2016-12-01  Apr 2018      17.0   \n",
       "\n",
       "                                            Location  title_tag  \n",
       "0                                              Egypt   Software  \n",
       "1                                             Remote       Data  \n",
       "2                                  Alexandria, Egypt   Software  \n",
       "3                           Cairo Governorate, Egypt   Software  \n",
       "4  Villa 8 Mohamed Al Gizawi St. the First Settle...  Fullstack  "
      ]
     },
     "execution_count": 142,
     "metadata": {},
     "output_type": "execute_result"
    }
   ],
   "source": [
    "# every user has one job\n",
    "experience_df = experience_df.groupby('User').last().reset_index()\n",
    "print(experience_df.shape)\n",
    "\n",
    "experience_df.head()"
   ]
  },
  {
   "attachments": {},
   "cell_type": "markdown",
   "metadata": {},
   "source": [
    "## Get the experience of each user with & without ITI"
   ]
  },
  {
   "cell_type": "code",
   "execution_count": 143,
   "metadata": {},
   "outputs": [
    {
     "data": {
      "text/plain": [
       "154"
      ]
     },
     "execution_count": 143,
     "metadata": {},
     "output_type": "execute_result"
    }
   ],
   "source": [
    "# create a set of user who have iti in their education or in experience\n",
    "tmp_df = pd.read_csv('../data/preprocessed-data/normalized csv/experiences.csv')\n",
    "iti_users = set(education_df[education_df['university_name'] == '#iti']['User'].unique())\n",
    "iti_users.update(set(tmp_df[tmp_df['Company'].str.contains('\\(ITI\\)')]['User'].unique()))\n",
    "iti_users = list(iti_users)\n",
    "len(iti_users)"
   ]
  },
  {
   "cell_type": "code",
   "execution_count": 144,
   "metadata": {},
   "outputs": [
    {
     "name": "stdout",
     "output_type": "stream",
     "text": [
      "working_without_iti_df (572, 15)\n",
      "working_with_iti_df (143, 15)\n"
     ]
    },
    {
     "data": {
      "image/png": "[encoded data removed]",
      "text/plain": [
       "<Figure size 1000x600 with 1 Axes>"
      ]
     },
     "metadata": {},
     "output_type": "display_data"
    },
    {
     "name": "stdout",
     "output_type": "stream",
     "text": [
      "working_df (715, 16)\n"
     ]
    },
    {
     "data": {
      "text/html": [
       "<div>\n",
       "<style scoped>\n",
       "    .dataframe tbody tr th:only-of-type {\n",
       "        vertical-align: middle;\n",
       "    }\n",
       "\n",
       "    .dataframe tbody tr th {\n",
       "        vertical-align: top;\n",
       "    }\n",
       "\n",
       "    .dataframe thead th {\n",
       "        text-align: right;\n",
       "    }\n",
       "</style>\n",
       "<table border=\"1\" class=\"dataframe\">\n",
       "  <thead>\n",
       "    <tr style=\"text-align: right;\">\n",
       "      <th></th>\n",
       "      <th>User</th>\n",
       "      <th>University</th>\n",
       "      <th>Degree</th>\n",
       "      <th>Date</th>\n",
       "      <th>university_name</th>\n",
       "      <th>faculty_name</th>\n",
       "    </tr>\n",
       "  </thead>\n",
       "  <tbody>\n",
       "    <tr>\n",
       "      <th>0</th>\n",
       "      <td>%D9%90%D9%90amiraelmergawy</td>\n",
       "      <td>information technology institute (iti)</td>\n",
       "      <td>nov 2021 - jun 2022</td>\n",
       "      <td>2016 - 2020</td>\n",
       "      <td>#iti</td>\n",
       "      <td>computer</td>\n",
       "    </tr>\n",
       "    <tr>\n",
       "      <th>1</th>\n",
       "      <td>-ezz</td>\n",
       "      <td>information technology institute (iti)</td>\n",
       "      <td>internship, web development using mearn stack</td>\n",
       "      <td>Dec 2021</td>\n",
       "      <td>#iti</td>\n",
       "      <td>science</td>\n",
       "    </tr>\n",
       "    <tr>\n",
       "      <th>2</th>\n",
       "      <td>1212mohamedtaha</td>\n",
       "      <td>faculty of petroleum and mining engineering, s...</td>\n",
       "      <td>bachelor's degree, petroleum engineering</td>\n",
       "      <td>2015 - 2020</td>\n",
       "      <td>None</td>\n",
       "      <td>petroleum</td>\n",
       "    </tr>\n",
       "    <tr>\n",
       "      <th>3</th>\n",
       "      <td>3omarbadr</td>\n",
       "      <td>information technology institute (iti)</td>\n",
       "      <td>php full stack diploma</td>\n",
       "      <td>Mar 2021 - Aug 2021</td>\n",
       "      <td>#iti</td>\n",
       "      <td>computer</td>\n",
       "    </tr>\n",
       "    <tr>\n",
       "      <th>4</th>\n",
       "      <td>aabdelsattaar</td>\n",
       "      <td>information technology institute (iti)</td>\n",
       "      <td>deploma, unix department</td>\n",
       "      <td>2007 - 2008</td>\n",
       "      <td>#iti</td>\n",
       "      <td>art</td>\n",
       "    </tr>\n",
       "  </tbody>\n",
       "</table>\n",
       "</div>"
      ],
      "text/plain": [
       "                         User  \\\n",
       "0  %D9%90%D9%90amiraelmergawy   \n",
       "1                        -ezz   \n",
       "2             1212mohamedtaha   \n",
       "3                   3omarbadr   \n",
       "4               aabdelsattaar   \n",
       "\n",
       "                                          University  \\\n",
       "0             information technology institute (iti)   \n",
       "1             information technology institute (iti)   \n",
       "2  faculty of petroleum and mining engineering, s...   \n",
       "3             information technology institute (iti)   \n",
       "4             information technology institute (iti)   \n",
       "\n",
       "                                          Degree                 Date  \\\n",
       "0                            nov 2021 - jun 2022          2016 - 2020   \n",
       "1  internship, web development using mearn stack             Dec 2021   \n",
       "2       bachelor's degree, petroleum engineering          2015 - 2020   \n",
       "3                         php full stack diploma  Mar 2021 - Aug 2021   \n",
       "4                       deploma, unix department          2007 - 2008   \n",
       "\n",
       "  university_name faculty_name  \n",
       "0            #iti     computer  \n",
       "1            #iti      science  \n",
       "2            None    petroleum  \n",
       "3            #iti     computer  \n",
       "4            #iti          art  "
      ]
     },
     "execution_count": 144,
     "metadata": {},
     "output_type": "execute_result"
    }
   ],
   "source": [
    "# Get the users who have iti in their education\n",
    "education_df_with_iti = education_df[education_df['User'].isin(iti_users)] \n",
    "\n",
    "# remove iti from education\n",
    "# create education_df_with_iti with the difference between education_df and education_df_without_iti\n",
    "education_df_without_iti = education_df[~education_df.isin(education_df_with_iti)].dropna()\n",
    "\n",
    "# get first education\n",
    "education_df_without_iti = education_df_without_iti.groupby('User').first().reset_index()\n",
    "education_df_with_iti = education_df_with_iti.groupby('User').first().reset_index()\n",
    "\n",
    "# join education and experience\n",
    "working_without_iti_df = pd.merge(education_df_without_iti, experience_df, on='User', how='inner')\n",
    "print(\"working_without_iti_df\", working_without_iti_df.shape)\n",
    "\n",
    "working_with_iti_df = pd.merge(education_df_with_iti, experience_df, on='User', how='inner')\n",
    "print(\"working_with_iti_df\", working_with_iti_df.shape)\n",
    "\n",
    "working_df = pd.concat([working_with_iti_df, working_without_iti_df])\n",
    "# add a column to indicate if the user has iti in his education or not\n",
    "working_df['has_iti'] = working_df['User'].isin(iti_users)\n",
    "\n",
    "# plot the number of users who have iti in their education and the number of users who don't have iti in their education\n",
    "plt.figure(figsize=(10, 6))\n",
    "sns.countplot(x='has_iti', data=working_df)\n",
    "plt.title('Number of users who have iti in their education and the number of users who don\\'t have iti in their education')\n",
    "plt.xlabel('Has iti in education')\n",
    "plt.ylabel('count')\n",
    "plt.show()\n",
    "\n",
    "print(\"working_df\", working_df.shape)\n",
    "\n",
    "education_df_with_iti.head()\n"
   ]
  },
  {
   "attachments": {},
   "cell_type": "markdown",
   "metadata": {},
   "source": [
    "<div style=\"border-width:1; border-radius: 15px; border-style: solid; border-color: rgb(10, 10, 10); background-color: #316B83; text-align: center;font: 14pt 'Candara';font-weight:bold;\"><h1> Stating & Refining QS</h1></div>"
   ]
  },
  {
   "attachments": {},
   "cell_type": "markdown",
   "metadata": {},
   "source": [
    "> #### _`QS:`_ People have to join ITI to be able to work in the software industry?  \n",
    ">|Set Expectation | Collect Info | Match Results| \n",
    ">|----|----|----|\n",
    ">| Question is answerable, there exist enough data to answer it.| We have more than 715 profiles for people working in the software industry and the size of each class is big enough to continue our analysis| _`Matches`_ |\n",
    ">| The number of people working in the software industry and went to ITI is significantly bigger then those who didn't| - | - |\n",
    "<br>\n"
   ]
  },
  {
   "attachments": {},
   "cell_type": "markdown",
   "metadata": {},
   "source": [
    "## Hypothesis Testing(McNemar's test)\n",
    "\n",
    "McNemar's test is used to analyze paired categorical data, typically in a 2x2 contingency table. It assesses whether there is a significant difference in the marginal proportions between two related groups.\n",
    "\n",
    ">> We can also interpret the results visually and say that there is a significant difference between the two groups."
   ]
  },
  {
   "cell_type": "code",
   "execution_count": 145,
   "metadata": {},
   "outputs": [
    {
     "name": "stdout",
     "output_type": "stream",
     "text": [
      "McNemar's chi-square statistic: 143.00\n",
      "P-value: 0.0000\n",
      "There is a significant difference between the two groups.\n"
     ]
    }
   ],
   "source": [
    "from statsmodels.stats.contingency_tables import mcnemar\n",
    "# >> Note: McNemar's test assumes that the observations are dependent, and it is typically used for matched or paired samples. \n",
    "# >> If the two groups in your data are independent, you may need to consider other statistical tests such as the chi-square test or Fisher's exact test.\n",
    "# Hypothesis: There is a significant difference between the people who have ITI in their education and the people who don't have ITI in their education in terms of working in the software industry.\n",
    "# Null Hypothesis: There is no significant difference between the people who have ITI in their education and the people who don't have ITI in their education in terms of working in the software industry.\n",
    "\n",
    "# Construct the contingency table\n",
    "contingency_table = [[len(working_without_iti_df), len(working_without_iti_df)],\n",
    "                    [len(working_with_iti_df), len(working_with_iti_df)]]\n",
    "\n",
    "# Perform McNemar's test\n",
    "result = mcnemar(contingency_table, correction=False)\n",
    "\n",
    "# Output the results\n",
    "print(f\"McNemar's chi-square statistic: {result.statistic:.2f}\")\n",
    "print(f\"P-value: {result.pvalue:.4f}\")\n",
    "\n",
    "# Interpret the results\n",
    "certainty = 0.95\n",
    "alpha = 1- certainty\n",
    "if result.pvalue < alpha:\n",
    "    print(\"There is a significant difference between the two groups.\")\n",
    "else:\n",
    "    print(\"There is no significant difference between the two groups.\")\n"
   ]
  },
  {
   "attachments": {},
   "cell_type": "markdown",
   "metadata": {},
   "source": [
    "<div style=\"border-width:1; border-radius: 15px; border-style: solid; border-color: rgb(10, 10, 10); background-color: #316B83; text-align: center;font: 14pt 'Candara';font-weight:bold;\"><h1> Stating & Refining QS</h1></div>"
   ]
  },
  {
   "attachments": {},
   "cell_type": "markdown",
   "metadata": {},
   "source": [
    "> #### _`QS:`_ People have to join ITI to be able to work in the software industry?  \n",
    ">|Set Expectation | Collect Info | Match Results| \n",
    ">|----|----|----|\n",
    ">| Question is answerable, there exist enough data to answer it.| We have more than 715 profiles for people working in the software industry and the size of each class is big enough to continue our analysis| _`Matches`_ |\n",
    ">| The number of people working in the software industry and went to ITI is significantly bigger then those who didn't| Using the _`McNemar's test`_ we rejected the hypothesis| ❌ Our initial expectation does not align with the data we have collected. **Most of the people working in the software industry didn't go to ITI. However, the number of people who went to ITI is still significant.** Therefore, we need to modify our question to incorporate the insights gained from the data.|\n",
    "<br>\n",
    "\n",
    "\n",
    "> #### _`New QS:`_ People who are not a CS/CE graduates have to join ITI to be able to work in the software industry?\n",
    ">|Set Expectation | Collect Info | Match Results| \n",
    ">|----|----|----|\n",
    ">| Question is answerable, there exist enough data to answer it.| - | - |\n",
    "<br>\n"
   ]
  },
  {
   "attachments": {},
   "cell_type": "markdown",
   "metadata": {},
   "source": [
    "## Get the people who shifted their career to the software industry\n",
    "i.e. Non-CS/CE graduates who are working in the software industry"
   ]
  },
  {
   "cell_type": "code",
   "execution_count": 146,
   "metadata": {},
   "outputs": [
    {
     "data": {
      "image/png": "[encoded data removed]",
      "text/plain": [
       "<Figure size 1500x500 with 1 Axes>"
      ]
     },
     "metadata": {},
     "output_type": "display_data"
    },
    {
     "name": "stdout",
     "output_type": "stream",
     "text": [
      "Number of users who have a related faculty in their education 558\n",
      "Number of users who don't have a related faculty in their education 157\n"
     ]
    },
    {
     "data": {
      "text/html": [
       "<div>\n",
       "<style scoped>\n",
       "    .dataframe tbody tr th:only-of-type {\n",
       "        vertical-align: middle;\n",
       "    }\n",
       "\n",
       "    .dataframe tbody tr th {\n",
       "        vertical-align: top;\n",
       "    }\n",
       "\n",
       "    .dataframe thead th {\n",
       "        text-align: right;\n",
       "    }\n",
       "</style>\n",
       "<table border=\"1\" class=\"dataframe\">\n",
       "  <thead>\n",
       "    <tr style=\"text-align: right;\">\n",
       "      <th>has_iti</th>\n",
       "      <th>False</th>\n",
       "      <th>True</th>\n",
       "    </tr>\n",
       "    <tr>\n",
       "      <th>shifted</th>\n",
       "      <th></th>\n",
       "      <th></th>\n",
       "    </tr>\n",
       "  </thead>\n",
       "  <tbody>\n",
       "    <tr>\n",
       "      <th>False</th>\n",
       "      <td>463</td>\n",
       "      <td>95</td>\n",
       "    </tr>\n",
       "    <tr>\n",
       "      <th>True</th>\n",
       "      <td>109</td>\n",
       "      <td>48</td>\n",
       "    </tr>\n",
       "  </tbody>\n",
       "</table>\n",
       "</div>"
      ],
      "text/plain": [
       "has_iti  False  True \n",
       "shifted              \n",
       "False      463     95\n",
       "True       109     48"
      ]
     },
     "execution_count": 146,
     "metadata": {},
     "output_type": "execute_result"
    }
   ],
   "source": [
    "cs_faculty = [\n",
    "    'computer',\n",
    "    'computing',\n",
    "    'engineering',\n",
    "    'information',\n",
    "    'informatics',\n",
    "    'software',\n",
    "]\n",
    "# for working_df, add a new column called shifted, it's true if the user don't have a cs_graduate faculty in his faculty_name column and false otherwise\n",
    "working_df['shifted'] = np.where(working_df['faculty_name'].str.contains('|'.join(cs_faculty), case=False, regex=True), False, True)\n",
    "\n",
    "\n",
    "# Draw a stack plot to show the percentage each faculty_name and title_tag for the shifted_df\n",
    "segment_counts = working_df.groupby(['shifted', 'has_iti']).size().unstack()\n",
    "# drop the did not specify column\n",
    "# segment_counts = segment_counts.drop('did not specify', axis=1)\n",
    "segment_counts.plot(kind='bar', stacked=True, figsize=(15, 5))\n",
    "plt.legend(title='Went to ITI', bbox_to_anchor=(1, 1), loc='upper left')\n",
    "plt.title('Number of users who have shifted their carrier whether they have iti in their education or not')\n",
    "plt.xlabel('shifted their carrier')\n",
    "plt.ylabel('count')\n",
    "plt.show()\n",
    "\n",
    "\n",
    "# print the number of users who have a related faculty in their education and the number of users who don't have a related faculty in their education\n",
    "print(\"Number of users who have a related faculty in their education\", len(working_df[working_df['shifted'] == False]))\n",
    "print(\"Number of users who don't have a related faculty in their education\", len(working_df[working_df['shifted'] == True]))\n",
    "\n",
    "segment_counts.head()"
   ]
  },
  {
   "attachments": {},
   "cell_type": "markdown",
   "metadata": {},
   "source": [
    "> #### _` QS:`_ People who are not a CS/CE graduates have to join ITI to be able to work in the software industry?\n",
    ">|Set Expectation | Collect Info | Match Results| \n",
    ">|----|----|----|\n",
    ">| Question is answerable, there exist enough data to answer it.| We have enough data to answer the question, there is quit a few people who have shifted their carrier and some of them has joined ITI | _`Matches`_ |\n",
    ">| The number of people who have shifted to the software industry and went to ITI is significantly bigger then those who didn't | - | - |\n",
    "<br>"
   ]
  },
  {
   "attachments": {},
   "cell_type": "markdown",
   "metadata": {},
   "source": [
    "## Hypothesis Testing(McNemar's test)\n",
    "\n",
    "McNemar's test is used to analyze paired categorical data, typically in a 2x2 contingency table. It assesses whether there is a significant difference in the marginal proportions between two related groups.\n",
    "\n",
    ">> We can also interpret the results visually and say that there is a significant difference between the two groups."
   ]
  },
  {
   "cell_type": "code",
   "execution_count": 147,
   "metadata": {},
   "outputs": [
    {
     "name": "stdout",
     "output_type": "stream",
     "text": [
      "McNemar's chi-square statistic: 95.00\n",
      "P-value: 0.3628\n",
      "There is no significant difference between the two groups.\n"
     ]
    }
   ],
   "source": [
    "from statsmodels.stats.contingency_tables import mcnemar\n",
    "# >> Note: McNemar's test assumes that the observations are dependent, and it is typically used for matched or paired samples. \n",
    "# >> If the two groups in your data are independent, you may need to consider other statistical tests such as the chi-square test or Fisher's exact test.\n",
    "\n",
    "# Hypothesis: There is a significant difference between the people who shifted their carrier and has ITI in their education and the people who shifted their carrier and don't have ITI in their education.\n",
    "# Null Hypothesis: There is no significant difference between the people who shifted their carrier and has ITI in their education and the people who shifted their carrier and don't have ITI in their education.\n",
    "\n",
    "# Create the contingency table\n",
    "contingency_table = pd.crosstab(working_df['shifted'], working_df['has_iti'])\n",
    "\n",
    "# Perform McNemar's test\n",
    "result = mcnemar(contingency_table, correction=False)\n",
    "\n",
    "# Output the results\n",
    "print(f\"McNemar's chi-square statistic: {result.statistic:.2f}\")\n",
    "print(f\"P-value: {result.pvalue:.4f}\")\n",
    "\n",
    "# Interpret the results\n",
    "certainty = 0.95\n",
    "alpha = 1- certainty\n",
    "if result.pvalue < alpha:\n",
    "    print(\"There is a significant difference between the two groups.\")\n",
    "else:\n",
    "    print(\"There is no significant difference between the two groups.\")\n"
   ]
  },
  {
   "attachments": {},
   "cell_type": "markdown",
   "metadata": {},
   "source": [
    "> #### _` QS:`_ People who are not a CS/CE graduates have to join ITI to be able to work in the software industry?\n",
    ">|Set Expectation | Collect Info | Match Results| \n",
    ">|----|----|----|\n",
    ">| Question is answerable, there exist enough data to answer it.| We have enough data to answer the question, there is quit a few people who have shifted their carrier and some of them has joined ITI | _`Matches`_ |\n",
    ">| The number of people who have shifted to the software industry and went to ITI is significantly bigger then those who didn't | Using the _`McNemar's test`_ we rejected the hypothesis| ❌ Our initial expectation does not align with the data we have collected. There's no obvious relation between shifting the carrier and joining ITI|\n",
    ">| ITI affects some professions more than others| - | - |\n",
    "<br>\n",
    "\n",
    "> #### _`New QS:`_ Does ITI affects some professions more than others?\n",
    ">|Set Expectation | Collect Info | Match Results| \n",
    ">|----|----|----|\n",
    ">| Question is answerable, there exist enough data to answer it.| - | - |\n",
    ">| ITI affects some professions more than others.| - | - |\n",
    "<br>"
   ]
  },
  {
   "cell_type": "code",
   "execution_count": 148,
   "metadata": {},
   "outputs": [],
   "source": [
    "def drawSegPlot(df, xlabel, ylabel, title, legend_title, groupBy1, groupBy2, figsize=(15, 5), n=3):\n",
    "    segment_counts = df.groupby([groupBy1, groupBy2]).size().unstack()\n",
    "    segment_counts = segment_counts.drop(segment_counts[segment_counts.sum(axis=1) < n].index, axis=0)\n",
    "    segment_percents = segment_counts.div(segment_counts.sum(axis=1), axis=0) * 100\n",
    "    segment_percents = segment_percents.sort_values(by=True, ascending=False)\n",
    "    ax = segment_percents.plot(kind='bar', stacked=True, figsize=figsize)\n",
    "    for container in ax.containers:\n",
    "        ax.bar_label(container, label_type='center', fontsize=8, color='black', fmt='%.1f%%', padding=3)\n",
    "    plt.xlabel(xlabel)\n",
    "    plt.ylabel(ylabel)\n",
    "    plt.title(title)\n",
    "    plt.legend(title=legend_title, bbox_to_anchor=(1, 1), loc='upper left')\n",
    "    plt.show()\n"
   ]
  },
  {
   "attachments": {},
   "cell_type": "markdown",
   "metadata": {},
   "source": [
    "## Distribution of the software fields for those who went to ITI and those who didn't (for people who shifted their career)"
   ]
  },
  {
   "cell_type": "code",
   "execution_count": 149,
   "metadata": {},
   "outputs": [
    {
     "data": {
      "image/png": "[encoded data removed]",
      "text/plain": [
       "<Figure size 1500x500 with 1 Axes>"
      ]
     },
     "metadata": {},
     "output_type": "display_data"
    }
   ],
   "source": [
    "\n",
    "drawSegPlot(working_df[working_df['shifted'] == True], 'shifted their career', 'Percentage', 'Distribution of the software fields for those who went to ITI and those who didn\\'t', 'Went to ITI', 'title_tag', 'has_iti' ,figsize=(15, 5), n=3)\n"
   ]
  },
  {
   "attachments": {},
   "cell_type": "markdown",
   "metadata": {},
   "source": [
    "## Distribution of the software fields for those who went to ITI and those who didn't (for the whole market)"
   ]
  },
  {
   "cell_type": "code",
   "execution_count": 150,
   "metadata": {},
   "outputs": [
    {
     "data": {
      "image/png": "[encoded data removed]",
      "text/plain": [
       "<Figure size 1500x500 with 1 Axes>"
      ]
     },
     "metadata": {},
     "output_type": "display_data"
    }
   ],
   "source": [
    "drawSegPlot(working_df, 'shifted their career', 'Percentage', 'Distribution of the software fields for those who went to ITI and those who didn\\'t', 'Went to ITI', 'title_tag', 'has_iti' ,figsize=(15, 5), n=3)\n"
   ]
  },
  {
   "attachments": {},
   "cell_type": "markdown",
   "metadata": {},
   "source": [
    "> #### _` QS:`_ People who are not a CS/CE graduates have to join ITI to be able to work in the software industry?\n",
    ">|Set Expectation | Collect Info | Match Results| \n",
    ">|----|----|----|\n",
    ">| Question is answerable, there exist enough data to answer it.| We have enough data to answer the question, there is quit a few people who have shifted their carrier and some of them has joined ITI | _`Matches`_ |\n",
    ">| The number of people who have shifted to the software industry and went to ITI is significantly bigger then those who didn't | Using the _`McNemar's test`_ we rejected the hypothesis| ❌ Our initial expectation does not align with the data we have collected.**Most of the people who have shifted their carrier into the software industry didn't go to ITI.**|\n",
    ">| ITI affects some professions more than others| As we can saw, ITI affects some professions more than others | _`Matches`_  |\n",
    "<br>\n",
    "\n",
    "> #### _`QS:`_ Does ITI affects some professions more than others?\n",
    ">|Set Expectation | Collect Info | Match Results| \n",
    ">|----|----|----|\n",
    ">| Question is answerable, there exist enough data to answer it.| We have enough data to answer the question, there is quit a few people who have shifted their carrier and some of them has joined ITI | _`Matches`_ |\n",
    ">| ITI affects some professions more than others.| As we noticed from the previous graphs, iti has an effect on some professions more than others | _`Matches`_  |\n",
    "<br>"
   ]
  },
  {
   "attachments": {},
   "cell_type": "markdown",
   "metadata": {},
   "source": [
    "<div style=\"border-width:1; border-radius: 15px; border-style: solid; border-color: rgb(10, 10, 10); background-color: #316B83; text-align: center;font: 14pt 'Candara';font-weight:bold;\"><h1> Interpreting Results</h1></div>"
   ]
  },
  {
   "attachments": {},
   "cell_type": "markdown",
   "metadata": {},
   "source": [
    "### As we have seen in the data and as we have concluded from the hypothesis testing, we found that ITI is not the only way to work in the software industry. There are many people who have shifted their career to the software industry without joining ITI. However, some professions are more affected by ITI than others. For example, most of the people working on the devops field have joined ITI. This comes from the fact that our universities don't teach devops and most of the people working in this field had to join ITI to learn it. The same applies for the UI/UX field, game development, and other fields.\n",
    "\n",
    "### Nevertheless, we can't deny the fact that ITI is one of the best ways to work in the software industry."
   ]
  }
 ],
 "metadata": {
  "kernelspec": {
   "display_name": "HiVT",
   "language": "python",
   "name": "python3"
  },
  "language_info": {
   "codemirror_mode": {
    "name": "ipython",
    "version": 3
   },
   "file_extension": ".py",
   "mimetype": "text/x-python",
   "name": "python",
   "nbconvert_exporter": "python",
   "pygments_lexer": "ipython3",
   "version": "3.10.6"
  },
  "orig_nbformat": 4,
  "vscode": {
   "interpreter": {
    "hash": "60314a8d3aa5fc3596f5f57b712d271dc597492e130eb7f55220048155540bfa"
   }
  }
 },
 "nbformat": 4,
 "nbformat_minor": 2
}
