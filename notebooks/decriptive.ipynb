{
 "cells": [
  {
   "cell_type": "code",
   "execution_count": 2,
   "metadata": {},
   "outputs": [],
   "source": [
    "import pandas as pd\n",
    "import numpy as np\n",
    "import matplotlib.pyplot as plt"
   ]
  },
  {
   "attachments": {},
   "cell_type": "markdown",
   "metadata": {},
   "source": [
    "### 1. What is the most crowded profession in 2022"
   ]
  },
  {
   "cell_type": "code",
   "execution_count": 38,
   "metadata": {},
   "outputs": [
    {
     "data": {
      "text/html": [
       "<div>\n",
       "<style scoped>\n",
       "    .dataframe tbody tr th:only-of-type {\n",
       "        vertical-align: middle;\n",
       "    }\n",
       "\n",
       "    .dataframe tbody tr th {\n",
       "        vertical-align: top;\n",
       "    }\n",
       "\n",
       "    .dataframe thead th {\n",
       "        text-align: right;\n",
       "    }\n",
       "</style>\n",
       "<table border=\"1\" class=\"dataframe\">\n",
       "  <thead>\n",
       "    <tr style=\"text-align: right;\">\n",
       "      <th></th>\n",
       "      <th>User</th>\n",
       "      <th>CompanyUrl</th>\n",
       "      <th>Company</th>\n",
       "      <th>Title</th>\n",
       "      <th>EmploymentType</th>\n",
       "      <th>From</th>\n",
       "      <th>To</th>\n",
       "      <th>Duration</th>\n",
       "      <th>Location</th>\n",
       "      <th>title_tag</th>\n",
       "    </tr>\n",
       "  </thead>\n",
       "  <tbody>\n",
       "    <tr>\n",
       "      <th>0</th>\n",
       "      <td>%D9%90%D9%90amiraelmergawy</td>\n",
       "      <td>https://www.linkedin.com/company/294614/</td>\n",
       "      <td>Information Technology Institute (ITI)</td>\n",
       "      <td>teaching assistant</td>\n",
       "      <td>Full-time</td>\n",
       "      <td>Aug 2022</td>\n",
       "      <td>Present</td>\n",
       "      <td>9.0</td>\n",
       "      <td>Egypt</td>\n",
       "      <td>teaching</td>\n",
       "    </tr>\n",
       "    <tr>\n",
       "      <th>1</th>\n",
       "      <td>%D9%90%D9%90amiraelmergawy</td>\n",
       "      <td>https://www.linkedin.com/company/15805726/</td>\n",
       "      <td>National Telecommunication Institute (NTI)</td>\n",
       "      <td>mean stack developer</td>\n",
       "      <td>Internship</td>\n",
       "      <td>Nov 2020</td>\n",
       "      <td>Jan 2021</td>\n",
       "      <td>3.0</td>\n",
       "      <td>NaN</td>\n",
       "      <td>full-stack</td>\n",
       "    </tr>\n",
       "    <tr>\n",
       "      <th>2</th>\n",
       "      <td>%D9%90%D9%90amiraelmergawy</td>\n",
       "      <td>https://www.linkedin.com/company/18305384/</td>\n",
       "      <td>الجهاز المركزي للتعبئة العامة و الاحصاء</td>\n",
       "      <td>software developer</td>\n",
       "      <td>Internship</td>\n",
       "      <td>Jul 2019</td>\n",
       "      <td>NaN</td>\n",
       "      <td>1.0</td>\n",
       "      <td>Cairo, Egypt</td>\n",
       "      <td>software</td>\n",
       "    </tr>\n",
       "    <tr>\n",
       "      <th>3</th>\n",
       "      <td>%D9%90%D9%90amiraelmergawy</td>\n",
       "      <td>https://www.linkedin.com/company/2205041/</td>\n",
       "      <td>(ISCC) Information Systems and Computers Center</td>\n",
       "      <td>software developer</td>\n",
       "      <td>Internship</td>\n",
       "      <td>Aug 2018</td>\n",
       "      <td>NaN</td>\n",
       "      <td>1.0</td>\n",
       "      <td>Cairo, Egypt</td>\n",
       "      <td>software</td>\n",
       "    </tr>\n",
       "    <tr>\n",
       "      <th>4</th>\n",
       "      <td>-ezz</td>\n",
       "      <td>https://www.linkedin.com/company/30101254/</td>\n",
       "      <td>sonono</td>\n",
       "      <td>software engineer</td>\n",
       "      <td>Full-time</td>\n",
       "      <td>Jan 2022</td>\n",
       "      <td>Present</td>\n",
       "      <td>16.0</td>\n",
       "      <td>Basel, Switzerland</td>\n",
       "      <td>software</td>\n",
       "    </tr>\n",
       "  </tbody>\n",
       "</table>\n",
       "</div>"
      ],
      "text/plain": [
       "                         User                                  CompanyUrl  \\\n",
       "0  %D9%90%D9%90amiraelmergawy    https://www.linkedin.com/company/294614/   \n",
       "1  %D9%90%D9%90amiraelmergawy  https://www.linkedin.com/company/15805726/   \n",
       "2  %D9%90%D9%90amiraelmergawy  https://www.linkedin.com/company/18305384/   \n",
       "3  %D9%90%D9%90amiraelmergawy   https://www.linkedin.com/company/2205041/   \n",
       "4                        -ezz  https://www.linkedin.com/company/30101254/   \n",
       "\n",
       "                                           Company                 Title  \\\n",
       "0           Information Technology Institute (ITI)    teaching assistant   \n",
       "1       National Telecommunication Institute (NTI)  mean stack developer   \n",
       "2          الجهاز المركزي للتعبئة العامة و الاحصاء    software developer   \n",
       "3  (ISCC) Information Systems and Computers Center    software developer   \n",
       "4                                           sonono     software engineer   \n",
       "\n",
       "  EmploymentType      From        To  Duration            Location   title_tag  \n",
       "0      Full-time  Aug 2022   Present       9.0               Egypt    teaching  \n",
       "1     Internship  Nov 2020  Jan 2021       3.0                 NaN  full-stack  \n",
       "2     Internship  Jul 2019       NaN       1.0        Cairo, Egypt    software  \n",
       "3     Internship  Aug 2018       NaN       1.0        Cairo, Egypt    software  \n",
       "4      Full-time  Jan 2022   Present      16.0  Basel, Switzerland    software  "
      ]
     },
     "execution_count": 38,
     "metadata": {},
     "output_type": "execute_result"
    }
   ],
   "source": [
    "df = pd.read_csv('../data/preprocessed-data/normalized csv/experiences.csv')\n",
    "df.head()"
   ]
  },
  {
   "cell_type": "code",
   "execution_count": 39,
   "metadata": {},
   "outputs": [],
   "source": [
    "# get current jobs\n",
    "df = df[df['To'] == 'Present']"
   ]
  },
  {
   "cell_type": "code",
   "execution_count": 40,
   "metadata": {},
   "outputs": [],
   "source": [
    "# filter out internship\n",
    "df = df[(df['title_tag'] != 'internship') & (df['EmploymentType'] != 'Internship')]"
   ]
  },
  {
   "cell_type": "code",
   "execution_count": 41,
   "metadata": {},
   "outputs": [
    {
     "data": {
      "text/plain": [
       "<AxesSubplot:>"
      ]
     },
     "execution_count": 41,
     "metadata": {},
     "output_type": "execute_result"
    },
    {
     "data": {
      "image/png": "[encoded data removed]",
      "text/plain": [
       "<Figure size 640x480 with 1 Axes>"
      ]
     },
     "metadata": {},
     "output_type": "display_data"
    }
   ],
   "source": [
    "df['title_tag'].value_counts().sort_values(ascending=False).plot(kind='bar')"
   ]
  },
  {
   "cell_type": "code",
   "execution_count": 42,
   "metadata": {},
   "outputs": [
    {
     "data": {
      "text/plain": [
       "software      358\n",
       "front-end      85\n",
       "data           70\n",
       "Lead           55\n",
       "mobile         50\n",
       "AI             48\n",
       "full-stack     44\n",
       "QA             43\n",
       "Embedded       41\n",
       "back-end       39\n",
       "devops         35\n",
       "teaching       31\n",
       "IT             30\n",
       "security        5\n",
       "GAME            4\n",
       "student         2\n",
       "UI/UX           1\n",
       "Name: title_tag, dtype: int64"
      ]
     },
     "execution_count": 42,
     "metadata": {},
     "output_type": "execute_result"
    }
   ],
   "source": [
    "df['title_tag'].value_counts().sort_values(ascending=False)"
   ]
  },
  {
   "attachments": {},
   "cell_type": "markdown",
   "metadata": {},
   "source": [
    "### 2. What is the percentage of turnover in the market?"
   ]
  },
  {
   "cell_type": "code",
   "execution_count": 3,
   "metadata": {},
   "outputs": [
    {
     "data": {
      "text/html": [
       "<div>\n",
       "<style scoped>\n",
       "    .dataframe tbody tr th:only-of-type {\n",
       "        vertical-align: middle;\n",
       "    }\n",
       "\n",
       "    .dataframe tbody tr th {\n",
       "        vertical-align: top;\n",
       "    }\n",
       "\n",
       "    .dataframe thead th {\n",
       "        text-align: right;\n",
       "    }\n",
       "</style>\n",
       "<table border=\"1\" class=\"dataframe\">\n",
       "  <thead>\n",
       "    <tr style=\"text-align: right;\">\n",
       "      <th></th>\n",
       "      <th>User</th>\n",
       "      <th>CompanyUrl</th>\n",
       "      <th>Company</th>\n",
       "      <th>Title</th>\n",
       "      <th>EmploymentType</th>\n",
       "      <th>From</th>\n",
       "      <th>To</th>\n",
       "      <th>Duration</th>\n",
       "      <th>Location</th>\n",
       "      <th>title_tag</th>\n",
       "    </tr>\n",
       "  </thead>\n",
       "  <tbody>\n",
       "    <tr>\n",
       "      <th>0</th>\n",
       "      <td>%D9%90%D9%90amiraelmergawy</td>\n",
       "      <td>https://www.linkedin.com/company/294614/</td>\n",
       "      <td>Information Technology Institute (ITI)</td>\n",
       "      <td>teaching assistant</td>\n",
       "      <td>Full-time</td>\n",
       "      <td>Aug 2022</td>\n",
       "      <td>Present</td>\n",
       "      <td>9.0</td>\n",
       "      <td>Egypt</td>\n",
       "      <td>teaching</td>\n",
       "    </tr>\n",
       "    <tr>\n",
       "      <th>4</th>\n",
       "      <td>-ezz</td>\n",
       "      <td>https://www.linkedin.com/company/30101254/</td>\n",
       "      <td>sonono</td>\n",
       "      <td>software engineer</td>\n",
       "      <td>Full-time</td>\n",
       "      <td>Jan 2022</td>\n",
       "      <td>Present</td>\n",
       "      <td>16.0</td>\n",
       "      <td>Basel, Switzerland</td>\n",
       "      <td>software</td>\n",
       "    </tr>\n",
       "  </tbody>\n",
       "</table>\n",
       "</div>"
      ],
      "text/plain": [
       "                         User                                  CompanyUrl  \\\n",
       "0  %D9%90%D9%90amiraelmergawy    https://www.linkedin.com/company/294614/   \n",
       "4                        -ezz  https://www.linkedin.com/company/30101254/   \n",
       "\n",
       "                                  Company               Title EmploymentType  \\\n",
       "0  Information Technology Institute (ITI)  teaching assistant      Full-time   \n",
       "4                                  sonono   software engineer      Full-time   \n",
       "\n",
       "       From       To  Duration            Location title_tag  \n",
       "0  Aug 2022  Present       9.0               Egypt  teaching  \n",
       "4  Jan 2022  Present      16.0  Basel, Switzerland  software  "
      ]
     },
     "execution_count": 3,
     "metadata": {},
     "output_type": "execute_result"
    }
   ],
   "source": [
    "df = pd.read_csv('../data/preprocessed-data/normalized csv/experiences.csv')\n",
    "# filter out internship\n",
    "df = df[(df['title_tag'] != 'internship') & (df['EmploymentType'] != 'Internship')]\n",
    "df.head(2)"
   ]
  },
  {
   "cell_type": "code",
   "execution_count": 76,
   "metadata": {},
   "outputs": [
    {
     "name": "stdout",
     "output_type": "stream",
     "text": [
      "Average turnover rate: 21.34 months with std: 16.66 months\n"
     ]
    }
   ],
   "source": [
    "all_group = df.groupby('User')[['Company', 'Duration']].agg({'Company': lambda x: x.nunique(), 'Duration': 'sum'})\n",
    "all_group['turnover_rate'] = all_group['Duration'] / all_group['Company']\n",
    "\n",
    "print(f\"Average turnover rate: {all_group['turnover_rate'].mean():.2f} months with std: {all_group['turnover_rate'].std():.2f} months\")"
   ]
  },
  {
   "attachments": {},
   "cell_type": "markdown",
   "metadata": {},
   "source": [
    "### Hypothesis: AI engineers has higher turn over rates."
   ]
  },
  {
   "cell_type": "code",
   "execution_count": 79,
   "metadata": {},
   "outputs": [],
   "source": [
    "ai_data = df[df['title_tag'] == 'AI']\n",
    "other_data = df[df['title_tag'] != 'AI']"
   ]
  },
  {
   "cell_type": "code",
   "execution_count": 80,
   "metadata": {},
   "outputs": [],
   "source": [
    "ai_group = ai_data.groupby('User')[['Company', 'Duration']].agg({'Company': lambda x: x.nunique(), 'Duration': 'sum'})\n",
    "ai_group['turnover_rate'] = ai_group['Duration'] / ai_group['Company']"
   ]
  },
  {
   "cell_type": "code",
   "execution_count": 87,
   "metadata": {},
   "outputs": [
    {
     "name": "stdout",
     "output_type": "stream",
     "text": [
      "Average turnover rate for AI: 16.21 months with std: 22.78 months\n"
     ]
    }
   ],
   "source": [
    "print(f\"Average turnover rate for AI: {ai_group['turnover_rate'].mean():.2f} months with std: {front_group['turnover_rate'].std():.2f} months\")"
   ]
  },
  {
   "cell_type": "code",
   "execution_count": 88,
   "metadata": {},
   "outputs": [
    {
     "data": {
      "image/png": "[encoded data removed]",
      "text/plain": [
       "<Figure size 640x480 with 1 Axes>"
      ]
     },
     "metadata": {},
     "output_type": "display_data"
    }
   ],
   "source": [
    "# plot histogram\n",
    "plt.hist(ai_group['turnover_rate'], bins=30)\n",
    "plt.show()"
   ]
  },
  {
   "cell_type": "code",
   "execution_count": 83,
   "metadata": {},
   "outputs": [],
   "source": [
    "other_group = other_data.groupby('User')[['Company', 'Duration']].agg({'Company': lambda x: x.nunique(), 'Duration': 'sum'})\n",
    "other_group['turnover_rate'] = other_group['Duration'] / other_group['Company']"
   ]
  },
  {
   "cell_type": "code",
   "execution_count": 84,
   "metadata": {},
   "outputs": [
    {
     "name": "stdout",
     "output_type": "stream",
     "text": [
      "Average turnover rate for other: 21.33 months with std: 16.78 months\n"
     ]
    }
   ],
   "source": [
    "print(f\"Average turnover rate for other: {other_group['turnover_rate'].mean():.2f} months with std: {other_group['turnover_rate'].std():.2f} months\")"
   ]
  },
  {
   "cell_type": "code",
   "execution_count": 86,
   "metadata": {},
   "outputs": [
    {
     "data": {
      "text/plain": [
       "Ttest_indResult(statistic=-2.65538024097238, pvalue=0.008064135904104427)"
      ]
     },
     "execution_count": 86,
     "metadata": {},
     "output_type": "execute_result"
    }
   ],
   "source": [
    "# implement t-test\n",
    "from scipy import stats\n",
    "stats.ttest_ind(ai_group['turnover_rate'], other_group['turnover_rate'])"
   ]
  },
  {
   "cell_type": "code",
   "execution_count": 89,
   "metadata": {},
   "outputs": [
    {
     "data": {
      "text/plain": [
       "MannwhitneyuResult(statistic=25035.5, pvalue=0.000872124913178919)"
      ]
     },
     "execution_count": 89,
     "metadata": {},
     "output_type": "execute_result"
    }
   ],
   "source": [
    "# implement mann-whitney test\n",
    "stats.mannwhitneyu(ai_group['turnover_rate'], other_group['turnover_rate'])"
   ]
  },
  {
   "attachments": {},
   "cell_type": "markdown",
   "metadata": {},
   "source": [
    "Mann-Whitney U Test: The Mann-Whitney U test is a non-parametric test that is used to compare the medians of two groups. It is used when the data are not normally distributed and the sample sizes are small. The test does not assume any particular distribution of the data."
   ]
  },
  {
   "cell_type": "code",
   "execution_count": null,
   "metadata": {},
   "outputs": [],
   "source": []
  }
 ],
 "metadata": {
  "kernelspec": {
   "display_name": "HiVT",
   "language": "python",
   "name": "python3"
  },
  "language_info": {
   "codemirror_mode": {
    "name": "ipython",
    "version": 3
   },
   "file_extension": ".py",
   "mimetype": "text/x-python",
   "name": "python",
   "nbconvert_exporter": "python",
   "pygments_lexer": "ipython3",
   "version": "3.8.16"
  },
  "orig_nbformat": 4,
  "vscode": {
   "interpreter": {
    "hash": "60314a8d3aa5fc3596f5f57b712d271dc597492e130eb7f55220048155540bfa"
   }
  }
 },
 "nbformat": 4,
 "nbformat_minor": 2
}
